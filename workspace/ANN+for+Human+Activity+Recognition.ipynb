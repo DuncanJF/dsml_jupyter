{
 "cells": [
  {
   "cell_type": "code",
   "execution_count": 1,
   "metadata": {},
   "outputs": [],
   "source": [
    "import pandas as pd\n",
    "import numpy as np"
   ]
  },
  {
   "cell_type": "code",
   "execution_count": 2,
   "metadata": {},
   "outputs": [],
   "source": [
    "xtrain=pd.read_table('https://github.com/DuncanJF/dsml_jupyter/blob/35e994b728f7f2ac7cb0bfe5b14f08ad0c5f0164/workspace/data/UCI_HAR_Dataset/train/X_train.txt?raw=true',delim_whitespace=True,header=None)"
   ]
  },
  {
   "cell_type": "code",
   "execution_count": 3,
   "metadata": {},
   "outputs": [],
   "source": [
    "xtest=pd.read_table('https://github.com/DuncanJF/dsml_jupyter/blob/35e994b728f7f2ac7cb0bfe5b14f08ad0c5f0164/workspace/data/UCI_HAR_Dataset/test/X_test.txt?raw=true',delim_whitespace=True,header=None)"
   ]
  },
  {
   "cell_type": "code",
   "execution_count": 4,
   "metadata": {},
   "outputs": [],
   "source": [
    "ytrain=pd.read_table('https://github.com/DuncanJF/dsml_jupyter/blob/35e994b728f7f2ac7cb0bfe5b14f08ad0c5f0164/workspace/data/UCI_HAR_Dataset/train/y_train.txt?raw=true',header=None)"
   ]
  },
  {
   "cell_type": "code",
   "execution_count": 5,
   "metadata": {},
   "outputs": [],
   "source": [
    "ytest=pd.read_table('https://github.com/DuncanJF/dsml_jupyter/blob/35e994b728f7f2ac7cb0bfe5b14f08ad0c5f0164/workspace/data/UCI_HAR_Dataset/test/y_test.txt?raw=true',header=None)"
   ]
  },
  {
   "cell_type": "code",
   "execution_count": 6,
   "metadata": {},
   "outputs": [],
   "source": [
    "xtrain=xtrain.values #converting into array"
   ]
  },
  {
   "cell_type": "code",
   "execution_count": 7,
   "metadata": {},
   "outputs": [
    {
     "data": {
      "text/plain": [
       "array([[ 0.28858451, -0.02029417, -0.13290514, ..., -0.84124676,\n",
       "         0.17994061, -0.05862692],\n",
       "       [ 0.27841883, -0.01641057, -0.12352019, ..., -0.8447876 ,\n",
       "         0.18028889, -0.05431672],\n",
       "       [ 0.27965306, -0.01946716, -0.11346169, ..., -0.84893347,\n",
       "         0.18063731, -0.04911782],\n",
       "       ...,\n",
       "       [ 0.27338737, -0.01701062, -0.04502183, ..., -0.77913261,\n",
       "         0.24914484,  0.04081119],\n",
       "       [ 0.28965416, -0.01884304, -0.15828059, ..., -0.78518142,\n",
       "         0.24643223,  0.02533948],\n",
       "       [ 0.35150347, -0.01242312, -0.20386717, ..., -0.78326693,\n",
       "         0.24680852,  0.03669484]])"
      ]
     },
     "execution_count": 7,
     "metadata": {},
     "output_type": "execute_result"
    }
   ],
   "source": [
    "xtrain"
   ]
  },
  {
   "cell_type": "code",
   "execution_count": 8,
   "metadata": {},
   "outputs": [],
   "source": [
    "xtest=xtest.values"
   ]
  },
  {
   "cell_type": "code",
   "execution_count": 9,
   "metadata": {},
   "outputs": [],
   "source": [
    "from sklearn.preprocessing import OneHotEncoder\n",
    "onehotencoder = OneHotEncoder()\n",
    "ytrain = onehotencoder.fit_transform(ytrain).toarray()"
   ]
  },
  {
   "cell_type": "code",
   "execution_count": 10,
   "metadata": {},
   "outputs": [
    {
     "data": {
      "text/plain": [
       "array([[0., 0., 0., 0., 1., 0.],\n",
       "       [0., 0., 0., 0., 1., 0.],\n",
       "       [0., 0., 0., 0., 1., 0.],\n",
       "       ...,\n",
       "       [0., 1., 0., 0., 0., 0.],\n",
       "       [0., 1., 0., 0., 0., 0.],\n",
       "       [0., 1., 0., 0., 0., 0.]])"
      ]
     },
     "execution_count": 10,
     "metadata": {},
     "output_type": "execute_result"
    }
   ],
   "source": [
    "ytrain"
   ]
  },
  {
   "cell_type": "code",
   "execution_count": 11,
   "metadata": {},
   "outputs": [
    {
     "name": "stderr",
     "output_type": "stream",
     "text": [
      "2024-02-18 15:44:11.527327: I external/local_tsl/tsl/cuda/cudart_stub.cc:31] Could not find cuda drivers on your machine, GPU will not be used.\n",
      "2024-02-18 15:44:11.556465: E external/local_xla/xla/stream_executor/cuda/cuda_dnn.cc:9261] Unable to register cuDNN factory: Attempting to register factory for plugin cuDNN when one has already been registered\n",
      "2024-02-18 15:44:11.556513: E external/local_xla/xla/stream_executor/cuda/cuda_fft.cc:607] Unable to register cuFFT factory: Attempting to register factory for plugin cuFFT when one has already been registered\n",
      "2024-02-18 15:44:11.557198: E external/local_xla/xla/stream_executor/cuda/cuda_blas.cc:1515] Unable to register cuBLAS factory: Attempting to register factory for plugin cuBLAS when one has already been registered\n",
      "2024-02-18 15:44:11.561533: I external/local_tsl/tsl/cuda/cudart_stub.cc:31] Could not find cuda drivers on your machine, GPU will not be used.\n",
      "2024-02-18 15:44:11.561854: I tensorflow/core/platform/cpu_feature_guard.cc:182] This TensorFlow binary is optimized to use available CPU instructions in performance-critical operations.\n",
      "To enable the following instructions: AVX2 FMA, in other operations, rebuild TensorFlow with the appropriate compiler flags.\n",
      "2024-02-18 15:44:12.178531: W tensorflow/compiler/tf2tensorrt/utils/py_utils.cc:38] TF-TRT Warning: Could not find TensorRT\n"
     ]
    }
   ],
   "source": [
    "import keras"
   ]
  },
  {
   "cell_type": "code",
   "execution_count": 12,
   "metadata": {},
   "outputs": [],
   "source": [
    "from keras.models import Sequential #sequential is required to initialise the neural network\n",
    "from keras.layers import Dense      #dense is used to build the layers\n",
    "from keras.layers import Dropout    #Dropout Layer in order to prevent Regularization in the network"
   ]
  },
  {
   "cell_type": "code",
   "execution_count": 13,
   "metadata": {},
   "outputs": [],
   "source": [
    "#Initialising the deep learning model\n",
    "#Defining the model as a sequence of layers\n",
    "classifier = Sequential()"
   ]
  },
  {
   "cell_type": "code",
   "execution_count": 14,
   "metadata": {},
   "outputs": [],
   "source": [
    "classifier.add(Dense(48, input_dim = 561, kernel_initializer='uniform', activation='relu', ))"
   ]
  },
  {
   "cell_type": "code",
   "execution_count": 15,
   "metadata": {},
   "outputs": [],
   "source": [
    "#creating a network of 561 X 48 X 24 X 12 X6\n",
    "classifier.add(Dropout(0.1))\n",
    "classifier.add(Dense(24, kernel_initializer='uniform', activation='relu'))\n",
    "classifier.add(Dropout(0.1))\n",
    "classifier.add(Dense(12, kernel_initializer='uniform', activation='relu'))\n",
    "classifier.add(Dropout(0.1))\n",
    "classifier.add(Dense(6, kernel_initializer='uniform', activation='softmax'))"
   ]
  },
  {
   "cell_type": "code",
   "execution_count": 16,
   "metadata": {},
   "outputs": [],
   "source": [
    "classifier.compile(optimizer='adam', loss='categorical_crossentropy', metrics = ['accuracy'])"
   ]
  },
  {
   "cell_type": "code",
   "execution_count": 17,
   "metadata": {},
   "outputs": [
    {
     "name": "stdout",
     "output_type": "stream",
     "text": [
      "Epoch 1/10\n",
      "Epoch 2/10\n",
      "Epoch 3/10\n",
      "Epoch 4/10\n",
      "Epoch 5/10\n",
      "Epoch 6/10\n",
      "Epoch 7/10\n",
      "Epoch 8/10\n",
      "Epoch 9/10\n",
      "Epoch 10/10\n"
     ]
    },
    {
     "data": {
      "text/plain": [
       "<keras.src.callbacks.History at 0x7eff22860a90>"
      ]
     },
     "execution_count": 17,
     "metadata": {},
     "output_type": "execute_result"
    }
   ],
   "source": [
    "#Fitting the ANN to the training set\n",
    "classifier.fit(xtrain, ytrain, batch_size=20, epochs=10, verbose = 4)"
   ]
  },
  {
   "cell_type": "code",
   "execution_count": 18,
   "metadata": {},
   "outputs": [
    {
     "name": "stdout",
     "output_type": "stream",
     "text": [
      "93/93 [==============================] - 0s 438us/step\n"
     ]
    }
   ],
   "source": [
    "pred = classifier.predict(xtest)"
   ]
  },
  {
   "cell_type": "code",
   "execution_count": 19,
   "metadata": {},
   "outputs": [],
   "source": [
    "predictions = []\n",
    "for i in range(len(pred)):\n",
    "    predictions.append(pred[i].argmax() + 1)"
   ]
  },
  {
   "cell_type": "code",
   "execution_count": 20,
   "metadata": {},
   "outputs": [
    {
     "name": "stdout",
     "output_type": "stream",
     "text": [
      "89.88802171700034 %\n"
     ]
    }
   ],
   "source": [
    "from sklearn import metrics\n",
    "print(str(metrics.accuracy_score(ytest, predictions)*100) + ' %')"
   ]
  }
 ],
 "metadata": {
  "kernelspec": {
   "display_name": "Python 3 (ipykernel)",
   "language": "python",
   "name": "python3"
  },
  "language_info": {
   "codemirror_mode": {
    "name": "ipython",
    "version": 3
   },
   "file_extension": ".py",
   "mimetype": "text/x-python",
   "name": "python",
   "nbconvert_exporter": "python",
   "pygments_lexer": "ipython3",
   "version": "3.11.7"
  }
 },
 "nbformat": 4,
 "nbformat_minor": 4
}
