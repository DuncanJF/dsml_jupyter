{
  "cells": [
    {
      "cell_type": "markdown",
      "metadata": {
        "id": "view-in-github",
        "colab_type": "text"
      },
      "source": [
        "<a href=\"https://colab.research.google.com/github/DuncanJF/dsml_jupyter/blob/main/workspace/heart.ipynb\" target=\"_parent\"><img src=\"https://colab.research.google.com/assets/colab-badge.svg\" alt=\"Open In Colab\"/></a>"
      ]
    },
    {
      "cell_type": "code",
      "execution_count": null,
      "id": "c26bd250-3367-47b9-99a7-81d1f2f2af8a",
      "metadata": {
        "id": "c26bd250-3367-47b9-99a7-81d1f2f2af8a"
      },
      "outputs": [],
      "source": [
        "import numpy as np\n",
        "import pandas as pd\n",
        "import seaborn as sns\n",
        "from sklearn.datasets import make_regression\n",
        "import statsmodels.api as sm\n",
        "\n",
        "\n",
        "from sklearn.model_selection import cross_val_score\n",
        "from sklearn.model_selection import train_test_split\n",
        "import matplotlib.pyplot as plt"
      ]
    },
    {
      "cell_type": "markdown",
      "id": "d8561383-85bc-44d9-8db2-45c674125af8",
      "metadata": {
        "id": "d8561383-85bc-44d9-8db2-45c674125af8"
      },
      "source": [
        "See:\n",
        "*  [KNN](https://scikit-learn.org/stable/modules/generated/sklearn.neighbors.KNeighborsClassifier.html)\n",
        "*  [Cross Validation](https://scikit-learn.org/stable/modules/generated/sklearn.model_selection.cross_val_score.html)\n",
        "*  [Train Test Split](https://scikit-learn.org/stable/modules/generated/sklearn.model_selection.train_test_split.html)"
      ]
    },
    {
      "cell_type": "code",
      "execution_count": null,
      "id": "8dc79741-e7d4-4415-9fe3-028ad68871e6",
      "metadata": {
        "id": "8dc79741-e7d4-4415-9fe3-028ad68871e6",
        "outputId": "624c7495-6352-4a55-ad80-e1aaaa175e75"
      },
      "outputs": [
        {
          "data": {
            "text/plain": [
              "<bound method NDFrame.head of      age     sex  cp  trestbps  chol  fbs  restecg  thalach  exang  oldpeak  \\\n",
              "0     63  Female   3       145   233    1        0      150      0      2.3   \n",
              "1     37  Female   2       130   250    0        1      187      0      3.5   \n",
              "2     41    Male   1       130   204    0        0      172      0      1.4   \n",
              "3     56  Female   1       120   236    0        1      178      0      0.8   \n",
              "4     57    Male   0       120   354    0        1      163      1      0.6   \n",
              "..   ...     ...  ..       ...   ...  ...      ...      ...    ...      ...   \n",
              "170   57    Male   0       140   241    0        1      123      1      0.2   \n",
              "171   45  Female   3       110   264    0        1      132      0      1.2   \n",
              "172   68  Female   0       144   193    1        1      141      0      3.4   \n",
              "173   57  Female   0       130   131    0        1      115      1      1.2   \n",
              "174   57    Male   1       130   236    0        0      174      0      0.0   \n",
              "\n",
              "     slope  ca  thal  target  \n",
              "0        0   0     1       1  \n",
              "1        0   0     2       1  \n",
              "2        2   0     2       1  \n",
              "3        2   0     2       1  \n",
              "4        2   0     2       1  \n",
              "..     ...  ..   ...     ...  \n",
              "170      1   0     3       0  \n",
              "171      1   0     3       0  \n",
              "172      1   2     3       0  \n",
              "173      1   1     3       0  \n",
              "174      1   1     2       0  \n",
              "\n",
              "[175 rows x 14 columns]>"
            ]
          },
          "execution_count": 2,
          "metadata": {},
          "output_type": "execute_result"
        }
      ],
      "source": [
        "df = pd.read_csv(\"https://github.com/DuncanJF/dsml_jupyter/blob/70b20c0cce0745f00443b87d3b0506134361a846/workspace/data/heart.csv?raw=true\")\n",
        "df.head"
      ]
    },
    {
      "cell_type": "code",
      "execution_count": null,
      "id": "df9d45a4-98f8-4523-8430-61885f3a26d5",
      "metadata": {
        "id": "df9d45a4-98f8-4523-8430-61885f3a26d5"
      },
      "outputs": [],
      "source": [
        "train, test = train_test_split(df, test_size=0.2)"
      ]
    },
    {
      "cell_type": "code",
      "execution_count": null,
      "id": "bd0bdef1-da83-4c38-a54b-1e379c451b09",
      "metadata": {
        "id": "bd0bdef1-da83-4c38-a54b-1e379c451b09"
      },
      "outputs": [],
      "source": [
        "# Your code goes here"
      ]
    }
  ],
  "metadata": {
    "kernelspec": {
      "display_name": "Python 3 (ipykernel)",
      "language": "python",
      "name": "python3"
    },
    "language_info": {
      "codemirror_mode": {
        "name": "ipython",
        "version": 3
      },
      "file_extension": ".py",
      "mimetype": "text/x-python",
      "name": "python",
      "nbconvert_exporter": "python",
      "pygments_lexer": "ipython3",
      "version": "3.11.7"
    },
    "colab": {
      "provenance": [],
      "include_colab_link": true
    }
  },
  "nbformat": 4,
  "nbformat_minor": 5
}