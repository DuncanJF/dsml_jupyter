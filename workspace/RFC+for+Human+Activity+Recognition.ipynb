{
 "cells": [
  {
   "cell_type": "code",
   "execution_count": 1,
   "metadata": {},
   "outputs": [],
   "source": [
    "import pandas as pd\n",
    "import numpy as np\n",
    "from sklearn.ensemble import RandomForestClassifier\n",
    "from sklearn.model_selection import GridSearchCV"
   ]
  },
  {
   "cell_type": "markdown",
   "metadata": {},
   "source": [
    "Adapted from [source](https://github.com/hardik04021996/Human-Activity-Recognition-using-machine-learning/blob/master/RFC%2Bfor%2BHuman%2BActivity%2BRecognition.ipynb)"
   ]
  },
  {
   "cell_type": "code",
   "execution_count": 2,
   "metadata": {},
   "outputs": [],
   "source": [
    "xtrain=pd.read_table('data/UCI_HAR_Dataset/train/X_train.txt',delim_whitespace=True,header=None)"
   ]
  },
  {
   "cell_type": "code",
   "execution_count": 3,
   "metadata": {},
   "outputs": [],
   "source": [
    "xtest=pd.read_table('data/UCI_HAR_Dataset/test/X_test.txt',delim_whitespace=True,header=None)"
   ]
  },
  {
   "cell_type": "code",
   "execution_count": 4,
   "metadata": {},
   "outputs": [],
   "source": [
    "ytrain=pd.read_table('data/UCI_HAR_Dataset/train/y_train.txt',header=None)"
   ]
  },
  {
   "cell_type": "code",
   "execution_count": 5,
   "metadata": {},
   "outputs": [],
   "source": [
    "ytest=pd.read_table('data/UCI_HAR_Dataset/test/y_test.txt',header=None)"
   ]
  },
  {
   "cell_type": "code",
   "execution_count": 6,
   "metadata": {},
   "outputs": [
    {
     "data": {
      "text/html": [
       "<div>\n",
       "<style scoped>\n",
       "    .dataframe tbody tr th:only-of-type {\n",
       "        vertical-align: middle;\n",
       "    }\n",
       "\n",
       "    .dataframe tbody tr th {\n",
       "        vertical-align: top;\n",
       "    }\n",
       "\n",
       "    .dataframe thead th {\n",
       "        text-align: right;\n",
       "    }\n",
       "</style>\n",
       "<table border=\"1\" class=\"dataframe\">\n",
       "  <thead>\n",
       "    <tr style=\"text-align: right;\">\n",
       "      <th></th>\n",
       "      <th>0</th>\n",
       "      <th>1</th>\n",
       "      <th>2</th>\n",
       "      <th>3</th>\n",
       "      <th>4</th>\n",
       "      <th>5</th>\n",
       "      <th>6</th>\n",
       "      <th>7</th>\n",
       "      <th>8</th>\n",
       "      <th>9</th>\n",
       "      <th>...</th>\n",
       "      <th>551</th>\n",
       "      <th>552</th>\n",
       "      <th>553</th>\n",
       "      <th>554</th>\n",
       "      <th>555</th>\n",
       "      <th>556</th>\n",
       "      <th>557</th>\n",
       "      <th>558</th>\n",
       "      <th>559</th>\n",
       "      <th>560</th>\n",
       "    </tr>\n",
       "  </thead>\n",
       "  <tbody>\n",
       "    <tr>\n",
       "      <th>0</th>\n",
       "      <td>0.288585</td>\n",
       "      <td>-0.020294</td>\n",
       "      <td>-0.132905</td>\n",
       "      <td>-0.995279</td>\n",
       "      <td>-0.983111</td>\n",
       "      <td>-0.913526</td>\n",
       "      <td>-0.995112</td>\n",
       "      <td>-0.983185</td>\n",
       "      <td>-0.923527</td>\n",
       "      <td>-0.934724</td>\n",
       "      <td>...</td>\n",
       "      <td>-0.074323</td>\n",
       "      <td>-0.298676</td>\n",
       "      <td>-0.710304</td>\n",
       "      <td>-0.112754</td>\n",
       "      <td>0.030400</td>\n",
       "      <td>-0.464761</td>\n",
       "      <td>-0.018446</td>\n",
       "      <td>-0.841247</td>\n",
       "      <td>0.179941</td>\n",
       "      <td>-0.058627</td>\n",
       "    </tr>\n",
       "    <tr>\n",
       "      <th>1</th>\n",
       "      <td>0.278419</td>\n",
       "      <td>-0.016411</td>\n",
       "      <td>-0.123520</td>\n",
       "      <td>-0.998245</td>\n",
       "      <td>-0.975300</td>\n",
       "      <td>-0.960322</td>\n",
       "      <td>-0.998807</td>\n",
       "      <td>-0.974914</td>\n",
       "      <td>-0.957686</td>\n",
       "      <td>-0.943068</td>\n",
       "      <td>...</td>\n",
       "      <td>0.158075</td>\n",
       "      <td>-0.595051</td>\n",
       "      <td>-0.861499</td>\n",
       "      <td>0.053477</td>\n",
       "      <td>-0.007435</td>\n",
       "      <td>-0.732626</td>\n",
       "      <td>0.703511</td>\n",
       "      <td>-0.844788</td>\n",
       "      <td>0.180289</td>\n",
       "      <td>-0.054317</td>\n",
       "    </tr>\n",
       "    <tr>\n",
       "      <th>2</th>\n",
       "      <td>0.279653</td>\n",
       "      <td>-0.019467</td>\n",
       "      <td>-0.113462</td>\n",
       "      <td>-0.995380</td>\n",
       "      <td>-0.967187</td>\n",
       "      <td>-0.978944</td>\n",
       "      <td>-0.996520</td>\n",
       "      <td>-0.963668</td>\n",
       "      <td>-0.977469</td>\n",
       "      <td>-0.938692</td>\n",
       "      <td>...</td>\n",
       "      <td>0.414503</td>\n",
       "      <td>-0.390748</td>\n",
       "      <td>-0.760104</td>\n",
       "      <td>-0.118559</td>\n",
       "      <td>0.177899</td>\n",
       "      <td>0.100699</td>\n",
       "      <td>0.808529</td>\n",
       "      <td>-0.848933</td>\n",
       "      <td>0.180637</td>\n",
       "      <td>-0.049118</td>\n",
       "    </tr>\n",
       "    <tr>\n",
       "      <th>3</th>\n",
       "      <td>0.279174</td>\n",
       "      <td>-0.026201</td>\n",
       "      <td>-0.123283</td>\n",
       "      <td>-0.996091</td>\n",
       "      <td>-0.983403</td>\n",
       "      <td>-0.990675</td>\n",
       "      <td>-0.997099</td>\n",
       "      <td>-0.982750</td>\n",
       "      <td>-0.989302</td>\n",
       "      <td>-0.938692</td>\n",
       "      <td>...</td>\n",
       "      <td>0.404573</td>\n",
       "      <td>-0.117290</td>\n",
       "      <td>-0.482845</td>\n",
       "      <td>-0.036788</td>\n",
       "      <td>-0.012892</td>\n",
       "      <td>0.640011</td>\n",
       "      <td>-0.485366</td>\n",
       "      <td>-0.848649</td>\n",
       "      <td>0.181935</td>\n",
       "      <td>-0.047663</td>\n",
       "    </tr>\n",
       "    <tr>\n",
       "      <th>4</th>\n",
       "      <td>0.276629</td>\n",
       "      <td>-0.016570</td>\n",
       "      <td>-0.115362</td>\n",
       "      <td>-0.998139</td>\n",
       "      <td>-0.980817</td>\n",
       "      <td>-0.990482</td>\n",
       "      <td>-0.998321</td>\n",
       "      <td>-0.979672</td>\n",
       "      <td>-0.990441</td>\n",
       "      <td>-0.942469</td>\n",
       "      <td>...</td>\n",
       "      <td>0.087753</td>\n",
       "      <td>-0.351471</td>\n",
       "      <td>-0.699205</td>\n",
       "      <td>0.123320</td>\n",
       "      <td>0.122542</td>\n",
       "      <td>0.693578</td>\n",
       "      <td>-0.615971</td>\n",
       "      <td>-0.847865</td>\n",
       "      <td>0.185151</td>\n",
       "      <td>-0.043892</td>\n",
       "    </tr>\n",
       "  </tbody>\n",
       "</table>\n",
       "<p>5 rows × 561 columns</p>\n",
       "</div>"
      ],
      "text/plain": [
       "        0         1         2         3         4         5         6    \\\n",
       "0  0.288585 -0.020294 -0.132905 -0.995279 -0.983111 -0.913526 -0.995112   \n",
       "1  0.278419 -0.016411 -0.123520 -0.998245 -0.975300 -0.960322 -0.998807   \n",
       "2  0.279653 -0.019467 -0.113462 -0.995380 -0.967187 -0.978944 -0.996520   \n",
       "3  0.279174 -0.026201 -0.123283 -0.996091 -0.983403 -0.990675 -0.997099   \n",
       "4  0.276629 -0.016570 -0.115362 -0.998139 -0.980817 -0.990482 -0.998321   \n",
       "\n",
       "        7         8         9    ...       551       552       553       554  \\\n",
       "0 -0.983185 -0.923527 -0.934724  ... -0.074323 -0.298676 -0.710304 -0.112754   \n",
       "1 -0.974914 -0.957686 -0.943068  ...  0.158075 -0.595051 -0.861499  0.053477   \n",
       "2 -0.963668 -0.977469 -0.938692  ...  0.414503 -0.390748 -0.760104 -0.118559   \n",
       "3 -0.982750 -0.989302 -0.938692  ...  0.404573 -0.117290 -0.482845 -0.036788   \n",
       "4 -0.979672 -0.990441 -0.942469  ...  0.087753 -0.351471 -0.699205  0.123320   \n",
       "\n",
       "        555       556       557       558       559       560  \n",
       "0  0.030400 -0.464761 -0.018446 -0.841247  0.179941 -0.058627  \n",
       "1 -0.007435 -0.732626  0.703511 -0.844788  0.180289 -0.054317  \n",
       "2  0.177899  0.100699  0.808529 -0.848933  0.180637 -0.049118  \n",
       "3 -0.012892  0.640011 -0.485366 -0.848649  0.181935 -0.047663  \n",
       "4  0.122542  0.693578 -0.615971 -0.847865  0.185151 -0.043892  \n",
       "\n",
       "[5 rows x 561 columns]"
      ]
     },
     "execution_count": 6,
     "metadata": {},
     "output_type": "execute_result"
    }
   ],
   "source": [
    "xtrain.head()"
   ]
  },
  {
   "cell_type": "code",
   "execution_count": 7,
   "metadata": {},
   "outputs": [],
   "source": [
    "classifier = RandomForestClassifier()"
   ]
  },
  {
   "cell_type": "code",
   "execution_count": 15,
   "metadata": {},
   "outputs": [],
   "source": [
    "parameters = {'n_estimators': [10, 100, 1000], 'max_depth': [3, 6, 9], 'max_features' : ['sqrt', 'log2']}"
   ]
  },
  {
   "cell_type": "code",
   "execution_count": 16,
   "metadata": {},
   "outputs": [
    {
     "data": {
      "text/plain": [
       "pandas.core.frame.DataFrame"
      ]
     },
     "execution_count": 16,
     "metadata": {},
     "output_type": "execute_result"
    }
   ],
   "source": [
    "type(ytrain)"
   ]
  },
  {
   "cell_type": "code",
   "execution_count": 17,
   "metadata": {
    "scrolled": true
   },
   "outputs": [
    {
     "name": "stdout",
     "output_type": "stream",
     "text": [
      "Fitting 4 folds for each of 18 candidates, totalling 72 fits\n"
     ]
    },
    {
     "data": {
      "text/html": [
       "<style>#sk-container-id-2 {color: black;}#sk-container-id-2 pre{padding: 0;}#sk-container-id-2 div.sk-toggleable {background-color: white;}#sk-container-id-2 label.sk-toggleable__label {cursor: pointer;display: block;width: 100%;margin-bottom: 0;padding: 0.3em;box-sizing: border-box;text-align: center;}#sk-container-id-2 label.sk-toggleable__label-arrow:before {content: \"▸\";float: left;margin-right: 0.25em;color: #696969;}#sk-container-id-2 label.sk-toggleable__label-arrow:hover:before {color: black;}#sk-container-id-2 div.sk-estimator:hover label.sk-toggleable__label-arrow:before {color: black;}#sk-container-id-2 div.sk-toggleable__content {max-height: 0;max-width: 0;overflow: hidden;text-align: left;background-color: #f0f8ff;}#sk-container-id-2 div.sk-toggleable__content pre {margin: 0.2em;color: black;border-radius: 0.25em;background-color: #f0f8ff;}#sk-container-id-2 input.sk-toggleable__control:checked~div.sk-toggleable__content {max-height: 200px;max-width: 100%;overflow: auto;}#sk-container-id-2 input.sk-toggleable__control:checked~label.sk-toggleable__label-arrow:before {content: \"▾\";}#sk-container-id-2 div.sk-estimator input.sk-toggleable__control:checked~label.sk-toggleable__label {background-color: #d4ebff;}#sk-container-id-2 div.sk-label input.sk-toggleable__control:checked~label.sk-toggleable__label {background-color: #d4ebff;}#sk-container-id-2 input.sk-hidden--visually {border: 0;clip: rect(1px 1px 1px 1px);clip: rect(1px, 1px, 1px, 1px);height: 1px;margin: -1px;overflow: hidden;padding: 0;position: absolute;width: 1px;}#sk-container-id-2 div.sk-estimator {font-family: monospace;background-color: #f0f8ff;border: 1px dotted black;border-radius: 0.25em;box-sizing: border-box;margin-bottom: 0.5em;}#sk-container-id-2 div.sk-estimator:hover {background-color: #d4ebff;}#sk-container-id-2 div.sk-parallel-item::after {content: \"\";width: 100%;border-bottom: 1px solid gray;flex-grow: 1;}#sk-container-id-2 div.sk-label:hover label.sk-toggleable__label {background-color: #d4ebff;}#sk-container-id-2 div.sk-serial::before {content: \"\";position: absolute;border-left: 1px solid gray;box-sizing: border-box;top: 0;bottom: 0;left: 50%;z-index: 0;}#sk-container-id-2 div.sk-serial {display: flex;flex-direction: column;align-items: center;background-color: white;padding-right: 0.2em;padding-left: 0.2em;position: relative;}#sk-container-id-2 div.sk-item {position: relative;z-index: 1;}#sk-container-id-2 div.sk-parallel {display: flex;align-items: stretch;justify-content: center;background-color: white;position: relative;}#sk-container-id-2 div.sk-item::before, #sk-container-id-2 div.sk-parallel-item::before {content: \"\";position: absolute;border-left: 1px solid gray;box-sizing: border-box;top: 0;bottom: 0;left: 50%;z-index: -1;}#sk-container-id-2 div.sk-parallel-item {display: flex;flex-direction: column;z-index: 1;position: relative;background-color: white;}#sk-container-id-2 div.sk-parallel-item:first-child::after {align-self: flex-end;width: 50%;}#sk-container-id-2 div.sk-parallel-item:last-child::after {align-self: flex-start;width: 50%;}#sk-container-id-2 div.sk-parallel-item:only-child::after {width: 0;}#sk-container-id-2 div.sk-dashed-wrapped {border: 1px dashed gray;margin: 0 0.4em 0.5em 0.4em;box-sizing: border-box;padding-bottom: 0.4em;background-color: white;}#sk-container-id-2 div.sk-label label {font-family: monospace;font-weight: bold;display: inline-block;line-height: 1.2em;}#sk-container-id-2 div.sk-label-container {text-align: center;}#sk-container-id-2 div.sk-container {/* jupyter's `normalize.less` sets `[hidden] { display: none; }` but bootstrap.min.css set `[hidden] { display: none !important; }` so we also need the `!important` here to be able to override the default hidden behavior on the sphinx rendered scikit-learn.org. See: https://github.com/scikit-learn/scikit-learn/issues/21755 */display: inline-block !important;position: relative;}#sk-container-id-2 div.sk-text-repr-fallback {display: none;}</style><div id=\"sk-container-id-2\" class=\"sk-top-container\"><div class=\"sk-text-repr-fallback\"><pre>GridSearchCV(cv=4, estimator=RandomForestClassifier(), n_jobs=-1,\n",
       "             param_grid={&#x27;max_depth&#x27;: [3, 6, 9],\n",
       "                         &#x27;max_features&#x27;: [&#x27;sqrt&#x27;, &#x27;log2&#x27;],\n",
       "                         &#x27;n_estimators&#x27;: [10, 100, 1000]},\n",
       "             scoring=&#x27;accuracy&#x27;, verbose=4)</pre><b>In a Jupyter environment, please rerun this cell to show the HTML representation or trust the notebook. <br />On GitHub, the HTML representation is unable to render, please try loading this page with nbviewer.org.</b></div><div class=\"sk-container\" hidden><div class=\"sk-item sk-dashed-wrapped\"><div class=\"sk-label-container\"><div class=\"sk-label sk-toggleable\"><input class=\"sk-toggleable__control sk-hidden--visually\" id=\"sk-estimator-id-4\" type=\"checkbox\" ><label for=\"sk-estimator-id-4\" class=\"sk-toggleable__label sk-toggleable__label-arrow\">GridSearchCV</label><div class=\"sk-toggleable__content\"><pre>GridSearchCV(cv=4, estimator=RandomForestClassifier(), n_jobs=-1,\n",
       "             param_grid={&#x27;max_depth&#x27;: [3, 6, 9],\n",
       "                         &#x27;max_features&#x27;: [&#x27;sqrt&#x27;, &#x27;log2&#x27;],\n",
       "                         &#x27;n_estimators&#x27;: [10, 100, 1000]},\n",
       "             scoring=&#x27;accuracy&#x27;, verbose=4)</pre></div></div></div><div class=\"sk-parallel\"><div class=\"sk-parallel-item\"><div class=\"sk-item\"><div class=\"sk-label-container\"><div class=\"sk-label sk-toggleable\"><input class=\"sk-toggleable__control sk-hidden--visually\" id=\"sk-estimator-id-5\" type=\"checkbox\" ><label for=\"sk-estimator-id-5\" class=\"sk-toggleable__label sk-toggleable__label-arrow\">estimator: RandomForestClassifier</label><div class=\"sk-toggleable__content\"><pre>RandomForestClassifier()</pre></div></div></div><div class=\"sk-serial\"><div class=\"sk-item\"><div class=\"sk-estimator sk-toggleable\"><input class=\"sk-toggleable__control sk-hidden--visually\" id=\"sk-estimator-id-6\" type=\"checkbox\" ><label for=\"sk-estimator-id-6\" class=\"sk-toggleable__label sk-toggleable__label-arrow\">RandomForestClassifier</label><div class=\"sk-toggleable__content\"><pre>RandomForestClassifier()</pre></div></div></div></div></div></div></div></div></div></div>"
      ],
      "text/plain": [
       "GridSearchCV(cv=4, estimator=RandomForestClassifier(), n_jobs=-1,\n",
       "             param_grid={'max_depth': [3, 6, 9],\n",
       "                         'max_features': ['sqrt', 'log2'],\n",
       "                         'n_estimators': [10, 100, 1000]},\n",
       "             scoring='accuracy', verbose=4)"
      ]
     },
     "execution_count": 17,
     "metadata": {},
     "output_type": "execute_result"
    },
    {
     "name": "stdout",
     "output_type": "stream",
     "text": [
      "[CV 4/4] END max_depth=6, max_features=auto, n_estimators=10;, score=nan total time=   0.0s\n",
      "[CV 2/4] END max_depth=9, max_features=auto, n_estimators=10;, score=nan total time=   0.0s\n",
      "[CV 1/4] END max_depth=9, max_features=auto, n_estimators=100;, score=nan total time=   0.0s\n",
      "[CV 1/4] END max_depth=9, max_features=log2, n_estimators=10;, score=0.886 total time=   0.4s\n",
      "[CV 1/4] END max_depth=3, max_features=sqrt, n_estimators=100;, score=0.849 total time=   3.5s\n",
      "[CV 1/4] END max_depth=9, max_features=log2, n_estimators=10;, score=0.888 total time=   0.4s\n",
      "[CV 1/4] END max_depth=9, max_features=log2, n_estimators=100;, score=0.905 total time=   3.5s\n",
      "[CV 2/4] END max_depth=6, max_features=auto, n_estimators=100;, score=nan total time=   0.0s\n",
      "[CV 4/4] END max_depth=9, max_features=log2, n_estimators=10;, score=0.933 total time=   0.4s\n",
      "[CV 4/4] END max_depth=3, max_features=sqrt, n_estimators=100;, score=0.927 total time=   3.6s\n",
      "[CV 2/4] END max_depth=9, max_features=log2, n_estimators=10;, score=0.891 total time=   0.4s\n",
      "[CV 2/4] END max_depth=9, max_features=log2, n_estimators=100;, score=0.908 total time=   3.5s\n",
      "[CV 3/4] END max_depth=3, max_features=log2, n_estimators=10;, score=0.771 total time=   0.2s\n",
      "[CV 2/4] END max_depth=9, max_features=auto, n_estimators=100;, score=nan total time=   0.0s\n",
      "[CV 3/4] END max_depth=9, max_features=log2, n_estimators=10;, score=0.880 total time=   0.4s\n",
      "[CV 3/4] END max_depth=3, max_features=sqrt, n_estimators=100;, score=0.810 total time=   3.6s\n",
      "[CV 3/4] END max_depth=9, max_features=log2, n_estimators=10;, score=0.865 total time=   0.4s\n",
      "[CV 3/4] END max_depth=9, max_features=log2, n_estimators=100;, score=0.896 total time=   3.5s\n",
      "[CV 1/4] END max_depth=6, max_features=auto, n_estimators=10;, score=nan total time=   0.0s\n",
      "[CV 4/4] END max_depth=9, max_features=auto, n_estimators=10;, score=nan total time=   0.0s\n",
      "[CV 1/4] END max_depth=9, max_features=auto, n_estimators=1000;, score=nan total time=   0.0s\n",
      "[CV 2/4] END max_depth=9, max_features=log2, n_estimators=10;, score=0.884 total time=   0.4s\n",
      "[CV 2/4] END max_depth=3, max_features=sqrt, n_estimators=100;, score=0.869 total time=   3.8s\n",
      "[CV 4/4] END max_depth=9, max_features=log2, n_estimators=10;, score=0.949 total time=   0.4s\n",
      "[CV 4/4] END max_depth=9, max_features=log2, n_estimators=100;, score=0.970 total time=   3.5s\n",
      "[CV 4/4] END max_depth=6, max_features=auto, n_estimators=100;, score=nan total time=   0.0s\n",
      "[CV 4/4] END max_depth=9, max_features=auto, n_estimators=1000;, score=nan total time=   0.0s\n",
      "[CV 4/4] END max_depth=9, max_features=log2, n_estimators=100;, score=0.964 total time=   3.0s\n",
      "[CV 3/4] END max_depth=3, max_features=log2, n_estimators=100;, score=0.795 total time=   1.6s\n",
      "[CV 2/4] END max_depth=9, max_features=sqrt, n_estimators=10;, score=0.876 total time=   0.8s\n",
      "[CV 2/4] END max_depth=9, max_features=sqrt, n_estimators=100;, score=0.893 total time=   8.0s\n",
      "[CV 1/4] END max_depth=6, max_features=auto, n_estimators=100;, score=nan total time=   0.1s\n",
      "[CV 3/4] END max_depth=9, max_features=auto, n_estimators=100;, score=nan total time=   0.0s\n",
      "[CV 1/4] END max_depth=9, max_features=log2, n_estimators=100;, score=0.910 total time=   2.9s\n",
      "[CV 1/4] END max_depth=3, max_features=log2, n_estimators=100;, score=0.809 total time=   1.6s\n",
      "[CV 3/4] END max_depth=9, max_features=sqrt, n_estimators=10;, score=0.855 total time=   0.8s\n",
      "[CV 3/4] END max_depth=9, max_features=sqrt, n_estimators=100;, score=0.882 total time=   8.1s\n",
      "[CV 2/4] END max_depth=6, max_features=auto, n_estimators=10;, score=nan total time=   0.0s\n",
      "[CV 1/4] END max_depth=9, max_features=auto, n_estimators=10;, score=nan total time=   0.0s\n",
      "[CV 3/4] END max_depth=9, max_features=auto, n_estimators=10;, score=nan total time=   0.0s\n",
      "[CV 4/4] END max_depth=9, max_features=auto, n_estimators=100;, score=nan total time=   0.0s\n",
      "[CV 2/4] END max_depth=9, max_features=auto, n_estimators=1000;, score=nan total time=   0.0s\n",
      "[CV 2/4] END max_depth=9, max_features=log2, n_estimators=100;, score=0.913 total time=   3.1s\n",
      "[CV 4/4] END max_depth=3, max_features=log2, n_estimators=100;, score=0.885 total time=   1.6s\n",
      "[CV 1/4] END max_depth=9, max_features=sqrt, n_estimators=10;, score=0.916 total time=   0.8s\n",
      "[CV 1/4] END max_depth=9, max_features=sqrt, n_estimators=100;, score=0.918 total time=   8.2s\n",
      "[CV 2/4] END max_depth=3, max_features=log2, n_estimators=10;, score=0.778 total time=   0.3s\n",
      "[CV 3/4] END max_depth=9, max_features=log2, n_estimators=100;, score=0.886 total time=   3.0s\n",
      "[CV 2/4] END max_depth=3, max_features=log2, n_estimators=100;, score=0.833 total time=   1.6s\n",
      "[CV 4/4] END max_depth=9, max_features=sqrt, n_estimators=10;, score=0.950 total time=   0.9s\n",
      "[CV 4/4] END max_depth=9, max_features=sqrt, n_estimators=100;, score=0.949 total time=   8.2s\n",
      "[CV 1/4] END max_depth=3, max_features=log2, n_estimators=1000;, score=0.805 total time=  12.1s\n",
      "[CV 3/4] END max_depth=3, max_features=log2, n_estimators=1000;, score=0.791 total time=  13.6s\n",
      "[CV 3/4] END max_depth=3, max_features=log2, n_estimators=1000;, score=0.797 total time=  11.9s\n",
      "[CV 4/4] END max_depth=3, max_features=log2, n_estimators=1000;, score=0.889 total time=  14.1s\n",
      "[CV 2/4] END max_depth=3, max_features=log2, n_estimators=1000;, score=0.829 total time=  11.8s\n",
      "[CV 1/4] END max_depth=3, max_features=log2, n_estimators=1000;, score=0.806 total time=  14.4s\n",
      "[CV 4/4] END max_depth=3, max_features=log2, n_estimators=1000;, score=0.894 total time=  11.8s\n",
      "[CV 2/4] END max_depth=3, max_features=log2, n_estimators=1000;, score=0.834 total time=  14.5s\n",
      "[CV 4/4] END max_depth=3, max_features=auto, n_estimators=1000;, score=nan total time=   0.0s\n",
      "[CV 1/4] END max_depth=6, max_features=log2, n_estimators=10;, score=0.881 total time=   0.3s\n",
      "[CV 1/4] END max_depth=3, max_features=sqrt, n_estimators=10;, score=0.844 total time=   0.5s\n",
      "[CV 2/4] END max_depth=6, max_features=log2, n_estimators=10;, score=0.886 total time=   0.3s\n",
      "[CV 1/4] END max_depth=6, max_features=log2, n_estimators=1000;, score=0.890 total time=  23.4s\n",
      "[CV 2/4] END max_depth=3, max_features=auto, n_estimators=10;, score=nan total time=   0.1s\n",
      "[CV 3/4] END max_depth=6, max_features=log2, n_estimators=1000;, score=0.870 total time=  20.5s\n",
      "[CV 1/4] END max_depth=6, max_features=sqrt, n_estimators=10;, score=0.893 total time=   0.8s\n",
      "[CV 2/4] END max_depth=6, max_features=log2, n_estimators=1000;, score=0.906 total time=  23.4s\n",
      "[CV 3/4] END max_depth=3, max_features=auto, n_estimators=100;, score=nan total time=   0.0s\n",
      "[CV 2/4] END max_depth=6, max_features=log2, n_estimators=1000;, score=0.906 total time=  20.8s\n",
      "[CV 3/4] END max_depth=6, max_features=sqrt, n_estimators=10;, score=0.868 total time=   0.8s\n",
      "[CV 4/4] END max_depth=6, max_features=log2, n_estimators=1000;, score=0.952 total time=  23.6s\n",
      "[CV 4/4] END max_depth=3, max_features=auto, n_estimators=10;, score=nan total time=   0.0s\n",
      "[CV 4/4] END max_depth=6, max_features=auto, n_estimators=1000;, score=nan total time=   0.0s\n",
      "[CV 1/4] END max_depth=6, max_features=log2, n_estimators=1000;, score=0.888 total time=  20.6s\n",
      "[CV 2/4] END max_depth=6, max_features=sqrt, n_estimators=10;, score=0.878 total time=   0.8s\n",
      "[CV 3/4] END max_depth=6, max_features=log2, n_estimators=1000;, score=0.875 total time=  24.8s\n",
      "[CV 2/4] END max_depth=3, max_features=log2, n_estimators=100;, score=0.820 total time=   1.5s\n",
      "[CV 4/4] END max_depth=3, max_features=sqrt, n_estimators=1000;, score=0.925 total time=  30.1s\n",
      "[CV 3/4] END max_depth=3, max_features=log2, n_estimators=100;, score=0.778 total time=   1.4s\n",
      "[CV 1/4] END max_depth=3, max_features=sqrt, n_estimators=1000;, score=0.852 total time=  31.4s\n",
      "[CV 4/4] END max_depth=3, max_features=log2, n_estimators=100;, score=0.867 total time=   1.4s\n",
      "[CV 2/4] END max_depth=3, max_features=sqrt, n_estimators=1000;, score=0.874 total time=  31.8s\n",
      "[CV 1/4] END max_depth=3, max_features=log2, n_estimators=100;, score=0.824 total time=   1.5s\n",
      "[CV 3/4] END max_depth=3, max_features=sqrt, n_estimators=1000;, score=0.850 total time=  32.0s\n",
      "[CV 3/4] END max_depth=6, max_features=auto, n_estimators=10;, score=nan total time=   0.0s\n",
      "[CV 2/4] END max_depth=9, max_features=log2, n_estimators=1000;, score=0.913 total time=  27.2s\n",
      "[CV 1/4] END max_depth=6, max_features=sqrt, n_estimators=100;, score=0.904 total time=   6.2s\n",
      "[CV 2/4] END max_depth=9, max_features=log2, n_estimators=1000;, score=0.913 total time=  28.6s\n",
      "[CV 1/4] END max_depth=3, max_features=log2, n_estimators=10;, score=0.822 total time=   0.2s\n",
      "[CV 3/4] END max_depth=9, max_features=auto, n_estimators=1000;, score=nan total time=   0.0s\n",
      "[CV 1/4] END max_depth=9, max_features=log2, n_estimators=1000;, score=0.914 total time=  27.5s\n",
      "[CV 4/4] END max_depth=6, max_features=sqrt, n_estimators=100;, score=0.944 total time=   6.2s\n",
      "[CV 3/4] END max_depth=9, max_features=log2, n_estimators=1000;, score=0.898 total time=  28.9s\n",
      "[CV 3/4] END max_depth=6, max_features=auto, n_estimators=100;, score=nan total time=   0.0s\n",
      "[CV 3/4] END max_depth=9, max_features=log2, n_estimators=1000;, score=0.899 total time=  27.4s\n",
      "[CV 2/4] END max_depth=6, max_features=sqrt, n_estimators=100;, score=0.904 total time=   6.1s\n",
      "[CV 1/4] END max_depth=9, max_features=log2, n_estimators=1000;, score=0.913 total time=  30.6s\n",
      "[CV 4/4] END max_depth=3, max_features=log2, n_estimators=10;, score=0.876 total time=   0.2s\n",
      "[CV 4/4] END max_depth=9, max_features=log2, n_estimators=1000;, score=0.968 total time=  27.4s\n",
      "[CV 3/4] END max_depth=6, max_features=sqrt, n_estimators=100;, score=0.904 total time=   6.4s\n",
      "[CV 4/4] END max_depth=9, max_features=log2, n_estimators=1000;, score=0.967 total time=  30.7s\n",
      "[CV 2/4] END max_depth=3, max_features=auto, n_estimators=1000;, score=nan total time=   0.0s\n",
      "[CV 3/4] END max_depth=6, max_features=auto, n_estimators=1000;, score=nan total time=   0.0s\n",
      "[CV 1/4] END max_depth=6, max_features=log2, n_estimators=100;, score=0.887 total time=   2.3s\n",
      "[CV 1/4] END max_depth=3, max_features=log2, n_estimators=10;, score=0.853 total time=   0.3s\n",
      "[CV 2/4] END max_depth=6, max_features=sqrt, n_estimators=1000;, score=0.897 total time=  50.6s\n",
      "[CV 4/4] END max_depth=3, max_features=auto, n_estimators=100;, score=nan total time=   0.0s\n",
      "[CV 3/4] END max_depth=6, max_features=log2, n_estimators=100;, score=0.868 total time=   2.4s\n",
      "[CV 2/4] END max_depth=3, max_features=log2, n_estimators=10;, score=0.844 total time=   0.3s\n",
      "[CV 1/4] END max_depth=6, max_features=sqrt, n_estimators=1000;, score=0.904 total time=  50.8s\n",
      "[CV 3/4] END max_depth=3, max_features=auto, n_estimators=1000;, score=nan total time=   0.0s\n",
      "[CV 2/4] END max_depth=6, max_features=log2, n_estimators=100;, score=0.897 total time=   2.6s\n",
      "[CV 3/4] END max_depth=3, max_features=log2, n_estimators=10;, score=0.785 total time=   0.3s\n",
      "[CV 4/4] END max_depth=6, max_features=sqrt, n_estimators=1000;, score=0.941 total time=  52.2s\n",
      "[CV 3/4] END max_depth=3, max_features=auto, n_estimators=10;, score=nan total time=   0.0s\n",
      "[CV 2/4] END max_depth=6, max_features=auto, n_estimators=1000;, score=nan total time=   0.0s\n",
      "[CV 4/4] END max_depth=6, max_features=log2, n_estimators=100;, score=0.949 total time=   2.6s\n",
      "[CV 4/4] END max_depth=3, max_features=log2, n_estimators=10;, score=0.793 total time=   0.3s\n",
      "[CV 3/4] END max_depth=6, max_features=sqrt, n_estimators=1000;, score=0.887 total time=  52.7s\n",
      "[CV 1/4] END max_depth=3, max_features=auto, n_estimators=100;, score=nan total time=   0.1s\n",
      "[CV 4/4] END max_depth=6, max_features=log2, n_estimators=1000;, score=0.954 total time=  21.0s\n",
      "[CV 4/4] END max_depth=6, max_features=sqrt, n_estimators=10;, score=0.931 total time=   0.7s\n",
      "[CV 3/4] END max_depth=6, max_features=log2, n_estimators=100;, score=0.873 total time=   2.6s\n",
      "[CV 2/4] END max_depth=9, max_features=sqrt, n_estimators=1000;, score=0.890 total time= 1.1min\n",
      "[CV 1/4] END max_depth=3, max_features=auto, n_estimators=1000;, score=nan total time=   0.1s\n",
      "[CV 3/4] END max_depth=6, max_features=log2, n_estimators=10;, score=0.838 total time=   0.4s\n",
      "[CV 4/4] END max_depth=3, max_features=sqrt, n_estimators=10;, score=0.875 total time=   0.5s\n",
      "[CV 4/4] END max_depth=6, max_features=log2, n_estimators=10;, score=0.934 total time=   0.3s\n",
      "[CV 4/4] END max_depth=6, max_features=log2, n_estimators=100;, score=0.953 total time=   2.7s\n",
      "[CV 3/4] END max_depth=9, max_features=sqrt, n_estimators=1000;, score=0.889 total time= 1.1min\n",
      "[CV 2/4] END max_depth=3, max_features=auto, n_estimators=100;, score=nan total time=   0.1s\n",
      "[CV 2/4] END max_depth=6, max_features=log2, n_estimators=10;, score=0.872 total time=   0.4s\n",
      "[CV 3/4] END max_depth=3, max_features=sqrt, n_estimators=10;, score=0.819 total time=   0.5s\n",
      "[CV 3/4] END max_depth=6, max_features=log2, n_estimators=10;, score=0.845 total time=   0.3s\n",
      "[CV 2/4] END max_depth=6, max_features=log2, n_estimators=100;, score=0.897 total time=   2.8s\n",
      "[CV 4/4] END max_depth=9, max_features=sqrt, n_estimators=1000;, score=0.956 total time= 1.1min\n",
      "[CV 1/4] END max_depth=3, max_features=auto, n_estimators=10;, score=nan total time=   0.0s\n",
      "[CV 1/4] END max_depth=6, max_features=auto, n_estimators=1000;, score=nan total time=   0.0s\n",
      "[CV 4/4] END max_depth=6, max_features=log2, n_estimators=10;, score=0.909 total time=   0.3s\n",
      "[CV 2/4] END max_depth=3, max_features=sqrt, n_estimators=10;, score=0.858 total time=   0.5s\n",
      "[CV 1/4] END max_depth=6, max_features=log2, n_estimators=10;, score=0.851 total time=   0.3s\n",
      "[CV 1/4] END max_depth=6, max_features=log2, n_estimators=100;, score=0.888 total time=   2.6s\n",
      "[CV 1/4] END max_depth=9, max_features=sqrt, n_estimators=1000;, score=0.918 total time= 1.1min\n"
     ]
    }
   ],
   "source": [
    "\n",
    "model=GridSearchCV(classifier,parameters,n_jobs=-1,cv=4,scoring='accuracy',verbose=4)\n",
    "model.fit(xtrain.values,ytrain.values.ravel().T)"
   ]
  },
  {
   "cell_type": "code",
   "execution_count": 18,
   "metadata": {},
   "outputs": [],
   "source": [
    "from sklearn.metrics import accuracy_score\n",
    "ypred=model.predict(xtest)\n",
    "accuracy=accuracy_score(ytest,ypred)"
   ]
  },
  {
   "cell_type": "code",
   "execution_count": 19,
   "metadata": {},
   "outputs": [
    {
     "name": "stdout",
     "output_type": "stream",
     "text": [
      "Best Parameters: {'max_depth': 9, 'max_features': 'log2', 'n_estimators': 1000}\n",
      "Accuracy Score: 92.53478113335596 %\n"
     ]
    }
   ],
   "source": [
    "print ('Best Parameters: '+ str(model.best_params_))\n",
    "print ('Accuracy Score: '+ str(accuracy*100) + ' %')"
   ]
  },
  {
   "cell_type": "code",
   "execution_count": null,
   "metadata": {},
   "outputs": [],
   "source": []
  },
  {
   "cell_type": "code",
   "execution_count": null,
   "metadata": {},
   "outputs": [],
   "source": []
  }
 ],
 "metadata": {
  "kernelspec": {
   "display_name": "Python 3 (ipykernel)",
   "language": "python",
   "name": "python3"
  },
  "language_info": {
   "codemirror_mode": {
    "name": "ipython",
    "version": 3
   },
   "file_extension": ".py",
   "mimetype": "text/x-python",
   "name": "python",
   "nbconvert_exporter": "python",
   "pygments_lexer": "ipython3",
   "version": "3.11.7"
  }
 },
 "nbformat": 4,
 "nbformat_minor": 4
}
