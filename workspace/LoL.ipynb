{
 "cells": [
  {
   "cell_type": "code",
   "execution_count": 1,
   "id": "c26bd250-3367-47b9-99a7-81d1f2f2af8a",
   "metadata": {},
   "outputs": [],
   "source": [
    "import numpy as np\n",
    "import pandas as pd\n",
    "import seaborn as sns\n",
    "from sklearn.datasets import make_regression\n",
    "import statsmodels.api as sm\n",
    "\n",
    "from sklearn.neighbors import KNeighborsClassifier\n",
    "from sklearn.model_selection import cross_val_score\n",
    "from sklearn.model_selection import train_test_split\n",
    "import matplotlib.pyplot as plt\n",
    "from localutil import text_to_image"
   ]
  },
  {
   "cell_type": "markdown",
   "id": "bdb0baa1-ef7c-4618-86bf-3f7e4f7b6cf9",
   "metadata": {},
   "source": [
    "See: \n",
    "*  [Decision Trees](https://scikit-learn.org/stable/modules/tree.html)\n",
    "*  [Decision Tree Algorithm](https://scikit-learn.org/stable/modules/generated/sklearn.neighbors.KNeighborsClassifier.html)\n",
    "*  [Cross Validation](https://scikit-learn.org/stable/modules/generated/sklearn.model_selection.cross_val_score.html)\n",
    "*  [Train Test Split](https://scikit-learn.org/stable/modules/generated/sklearn.model_selection.train_test_split.html)"
   ]
  },
  {
   "cell_type": "code",
   "execution_count": 3,
   "id": "8dc79741-e7d4-4415-9fe3-028ad68871e6",
   "metadata": {},
   "outputs": [
    {
     "data": {
      "text/plain": [
       "<bound method NDFrame.head of            gameId  creationTime  gameDuration  seasonId  winner  firstBlood  \\\n",
       "0      3326086514  1.500000e+12          1949         9       1           2   \n",
       "1      3229566029  1.500000e+12          1851         9       1           1   \n",
       "2      3327363504  1.500000e+12          1493         9       1           2   \n",
       "3      3326856598  1.500000e+12          1758         9       1           1   \n",
       "4      3330080762  1.500000e+12          2094         9       1           2   \n",
       "...           ...           ...           ...       ...     ...         ...   \n",
       "51485  3308904636  1.500000e+12          1944         9       2           1   \n",
       "51486  3215685759  1.500000e+12          3304         9       2           1   \n",
       "51487  3322765040  1.500000e+12          2156         9       2           2   \n",
       "51488  3256675373  1.500000e+12          1475         9       2           2   \n",
       "51489  3317333020  1.500000e+12          1445         9       1           1   \n",
       "\n",
       "       firstTower  firstInhibitor  firstBaron  firstDragon  ...  \\\n",
       "0               1               1           1            1  ...   \n",
       "1               1               1           0            1  ...   \n",
       "2               1               1           1            2  ...   \n",
       "3               1               1           1            1  ...   \n",
       "4               1               1           1            1  ...   \n",
       "...           ...             ...         ...          ...  ...   \n",
       "51485           2               2           0            2  ...   \n",
       "51486           1               2           2            2  ...   \n",
       "51487           2               2           0            1  ...   \n",
       "51488           2               2           0            2  ...   \n",
       "51489           1               1           1            2  ...   \n",
       "\n",
       "       t2_towerKills  t2_inhibitorKills  t2_baronKills  t2_dragonKills  \\\n",
       "0                  5                  0              0               1   \n",
       "1                  2                  0              0               0   \n",
       "2                  2                  0              0               1   \n",
       "3                  0                  0              0               0   \n",
       "4                  3                  0              0               1   \n",
       "...              ...                ...            ...             ...   \n",
       "51485             10                  2              0               4   \n",
       "51486             11                  7              4               4   \n",
       "51487             10                  2              0               2   \n",
       "51488             11                  3              0               1   \n",
       "51489              1                  0              0               1   \n",
       "\n",
       "       t2_riftHeraldKills  t2_ban1  t2_ban2  t2_ban3  t2_ban4  t2_ban5  \n",
       "0                       1      114       67       43       16       51  \n",
       "1                       0       11       67      238       51      420  \n",
       "2                       0      157      238      121       57       28  \n",
       "3                       0      164       18      141       40       51  \n",
       "4                       0       86       11      201      122       18  \n",
       "...                   ...      ...      ...      ...      ...      ...  \n",
       "51485                   0       55       -1       90      238      157  \n",
       "51486                   1      157       55      119      154      105  \n",
       "51487                   0      113      122       53       11      157  \n",
       "51488                   0      154       39       51       90      114  \n",
       "51489                   0       11      157      141       31       18  \n",
       "\n",
       "[51490 rows x 61 columns]>"
      ]
     },
     "execution_count": 3,
     "metadata": {},
     "output_type": "execute_result"
    }
   ],
   "source": [
    "df = pd.read_csv(\"data/LoL.csv\")\n",
    "df.head"
   ]
  },
  {
   "cell_type": "code",
   "execution_count": 4,
   "id": "df9d45a4-98f8-4523-8430-61885f3a26d5",
   "metadata": {},
   "outputs": [],
   "source": [
    "train, test = train_test_split(df, test_size=0.2)"
   ]
  },
  {
   "cell_type": "code",
   "execution_count": null,
   "id": "268c42c4-1d7f-4665-8adb-d650186ba46b",
   "metadata": {},
   "outputs": [],
   "source": [
    "# Your code goes here"
   ]
  }
 ],
 "metadata": {
  "kernelspec": {
   "display_name": "Python 3 (ipykernel)",
   "language": "python",
   "name": "python3"
  },
  "language_info": {
   "codemirror_mode": {
    "name": "ipython",
    "version": 3
   },
   "file_extension": ".py",
   "mimetype": "text/x-python",
   "name": "python",
   "nbconvert_exporter": "python",
   "pygments_lexer": "ipython3",
   "version": "3.11.7"
  }
 },
 "nbformat": 4,
 "nbformat_minor": 5
}
