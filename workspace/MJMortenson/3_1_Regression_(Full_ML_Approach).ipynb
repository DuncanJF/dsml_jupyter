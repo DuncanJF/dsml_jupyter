{
 "cells": [
  {
   "cell_type": "markdown",
   "metadata": {
    "colab_type": "text",
    "id": "view-in-github"
   },
   "source": [
    "<a href=\"https://colab.research.google.com/github/MJMortensonWarwick/DSML2223/blob/main/3_1_Regression_(Full_ML_Approach).ipynb\" target=\"_parent\"><img src=\"https://colab.research.google.com/assets/colab-badge.svg\" alt=\"Open In Colab\"/></a>"
   ]
  },
  {
   "cell_type": "markdown",
   "metadata": {
    "id": "SQaQTTM8HkIC"
   },
   "source": [
    "# Linear Regression - a Full ML Approach\n",
    "\n",
    "Here we will run the same linear regressions (with and without regularisation) from the first day of the module, but as a full ML project. We start with the importing:"
   ]
  },
  {
   "cell_type": "code",
   "execution_count": 1,
   "metadata": {
    "id": "TsZu7TTCHVTF"
   },
   "outputs": [],
   "source": [
    "import numpy as np\n",
    "import matplotlib.pyplot as plt \n",
    "import pandas as pd  \n",
    "import seaborn as sns \n",
    "\n",
    "# Only works on Jupyter/Anaconda\n",
    "%matplotlib inline  \n",
    "\n",
    "from sklearn.linear_model import LinearRegression\n",
    "from sklearn.metrics import mean_squared_error, r2_score"
   ]
  },
  {
   "cell_type": "code",
   "execution_count": 2,
   "metadata": {},
   "outputs": [],
   "source": [
    "from collections import namedtuple\n",
    "class Boston(namedtuple(\"Boston\",['data', 'feature_names', 'target'])):\n",
    "\n",
    "    def keys(self):\n",
    "        return list(self._fields)\n",
    "\n",
    "def load_boston():\n",
    "    \"\"\"\n",
    "    The Boston dataset has been depracated from SciKit-Learn.\n",
    "    Load it from the original source.\n",
    "    \"\"\"\n",
    "    data_url = \"http://lib.stat.cmu.edu/datasets/boston\"\n",
    "    raw_df = pd.read_csv(data_url, sep=\"\\s+\", skiprows=22, header=None)\n",
    "    data = np.hstack([raw_df.values[::2, :], raw_df.values[1::2, :2]])\n",
    "    target = raw_df.values[1::2, 2]\n",
    "    feature_names = np.array(['CRIM', 'ZN', 'INDUS', 'CHAS', 'NOX', 'RM', 'AGE', 'DIS', 'RAD', 'TAX', 'PTRATIO', 'B', 'LSTAT'], dtype='<U7')\n",
    "    return Boston(data, feature_names, target)"
   ]
  },
  {
   "cell_type": "markdown",
   "metadata": {
    "id": "iRyyQotGIHTE"
   },
   "source": [
    "### STEP ONE: Read the data\n",
    "We will also use one of the inbuilt datasets included with _scikit\\-learn_:"
   ]
  },
  {
   "cell_type": "code",
   "execution_count": 3,
   "metadata": {
    "colab": {
     "base_uri": "https://localhost:8080/"
    },
    "id": "JPefRRmqIKfa",
    "outputId": "c84f5866-6fd3-410f-cd85-4cd2e6ff8fad"
   },
   "outputs": [],
   "source": [
    "boston_dataset = load_boston()"
   ]
  },
  {
   "cell_type": "markdown",
   "metadata": {
    "id": "3qWvUfZNIOJj"
   },
   "source": [
    "As the comment says, this is a well known dataset ... indeed Andrew Ng's first dataset in his first lecture of the first mainstream MOOC in machine learning. Let's look at it:"
   ]
  },
  {
   "cell_type": "code",
   "execution_count": 4,
   "metadata": {
    "colab": {
     "base_uri": "https://localhost:8080/"
    },
    "id": "4WzUax3AISeU",
    "outputId": "e31f3d4d-16ad-431f-fc7e-e4208e06c6ea"
   },
   "outputs": [
    {
     "name": "stdout",
     "output_type": "stream",
     "text": [
      "Boston(data=array([[6.3200e-03, 1.8000e+01, 2.3100e+00, ..., 1.5300e+01, 3.9690e+02,\n",
      "        4.9800e+00],\n",
      "       [2.7310e-02, 0.0000e+00, 7.0700e+00, ..., 1.7800e+01, 3.9690e+02,\n",
      "        9.1400e+00],\n",
      "       [2.7290e-02, 0.0000e+00, 7.0700e+00, ..., 1.7800e+01, 3.9283e+02,\n",
      "        4.0300e+00],\n",
      "       ...,\n",
      "       [6.0760e-02, 0.0000e+00, 1.1930e+01, ..., 2.1000e+01, 3.9690e+02,\n",
      "        5.6400e+00],\n",
      "       [1.0959e-01, 0.0000e+00, 1.1930e+01, ..., 2.1000e+01, 3.9345e+02,\n",
      "        6.4800e+00],\n",
      "       [4.7410e-02, 0.0000e+00, 1.1930e+01, ..., 2.1000e+01, 3.9690e+02,\n",
      "        7.8800e+00]]), feature_names=array(['CRIM', 'ZN', 'INDUS', 'CHAS', 'NOX', 'RM', 'AGE', 'DIS', 'RAD',\n",
      "       'TAX', 'PTRATIO', 'B', 'LSTAT'], dtype='<U7'), target=array([24. , 21.6, 34.7, 33.4, 36.2, 28.7, 22.9, 27.1, 16.5, 18.9, 15. ,\n",
      "       18.9, 21.7, 20.4, 18.2, 19.9, 23.1, 17.5, 20.2, 18.2, 13.6, 19.6,\n",
      "       15.2, 14.5, 15.6, 13.9, 16.6, 14.8, 18.4, 21. , 12.7, 14.5, 13.2,\n",
      "       13.1, 13.5, 18.9, 20. , 21. , 24.7, 30.8, 34.9, 26.6, 25.3, 24.7,\n",
      "       21.2, 19.3, 20. , 16.6, 14.4, 19.4, 19.7, 20.5, 25. , 23.4, 18.9,\n",
      "       35.4, 24.7, 31.6, 23.3, 19.6, 18.7, 16. , 22.2, 25. , 33. , 23.5,\n",
      "       19.4, 22. , 17.4, 20.9, 24.2, 21.7, 22.8, 23.4, 24.1, 21.4, 20. ,\n",
      "       20.8, 21.2, 20.3, 28. , 23.9, 24.8, 22.9, 23.9, 26.6, 22.5, 22.2,\n",
      "       23.6, 28.7, 22.6, 22. , 22.9, 25. , 20.6, 28.4, 21.4, 38.7, 43.8,\n",
      "       33.2, 27.5, 26.5, 18.6, 19.3, 20.1, 19.5, 19.5, 20.4, 19.8, 19.4,\n",
      "       21.7, 22.8, 18.8, 18.7, 18.5, 18.3, 21.2, 19.2, 20.4, 19.3, 22. ,\n",
      "       20.3, 20.5, 17.3, 18.8, 21.4, 15.7, 16.2, 18. , 14.3, 19.2, 19.6,\n",
      "       23. , 18.4, 15.6, 18.1, 17.4, 17.1, 13.3, 17.8, 14. , 14.4, 13.4,\n",
      "       15.6, 11.8, 13.8, 15.6, 14.6, 17.8, 15.4, 21.5, 19.6, 15.3, 19.4,\n",
      "       17. , 15.6, 13.1, 41.3, 24.3, 23.3, 27. , 50. , 50. , 50. , 22.7,\n",
      "       25. , 50. , 23.8, 23.8, 22.3, 17.4, 19.1, 23.1, 23.6, 22.6, 29.4,\n",
      "       23.2, 24.6, 29.9, 37.2, 39.8, 36.2, 37.9, 32.5, 26.4, 29.6, 50. ,\n",
      "       32. , 29.8, 34.9, 37. , 30.5, 36.4, 31.1, 29.1, 50. , 33.3, 30.3,\n",
      "       34.6, 34.9, 32.9, 24.1, 42.3, 48.5, 50. , 22.6, 24.4, 22.5, 24.4,\n",
      "       20. , 21.7, 19.3, 22.4, 28.1, 23.7, 25. , 23.3, 28.7, 21.5, 23. ,\n",
      "       26.7, 21.7, 27.5, 30.1, 44.8, 50. , 37.6, 31.6, 46.7, 31.5, 24.3,\n",
      "       31.7, 41.7, 48.3, 29. , 24. , 25.1, 31.5, 23.7, 23.3, 22. , 20.1,\n",
      "       22.2, 23.7, 17.6, 18.5, 24.3, 20.5, 24.5, 26.2, 24.4, 24.8, 29.6,\n",
      "       42.8, 21.9, 20.9, 44. , 50. , 36. , 30.1, 33.8, 43.1, 48.8, 31. ,\n",
      "       36.5, 22.8, 30.7, 50. , 43.5, 20.7, 21.1, 25.2, 24.4, 35.2, 32.4,\n",
      "       32. , 33.2, 33.1, 29.1, 35.1, 45.4, 35.4, 46. , 50. , 32.2, 22. ,\n",
      "       20.1, 23.2, 22.3, 24.8, 28.5, 37.3, 27.9, 23.9, 21.7, 28.6, 27.1,\n",
      "       20.3, 22.5, 29. , 24.8, 22. , 26.4, 33.1, 36.1, 28.4, 33.4, 28.2,\n",
      "       22.8, 20.3, 16.1, 22.1, 19.4, 21.6, 23.8, 16.2, 17.8, 19.8, 23.1,\n",
      "       21. , 23.8, 23.1, 20.4, 18.5, 25. , 24.6, 23. , 22.2, 19.3, 22.6,\n",
      "       19.8, 17.1, 19.4, 22.2, 20.7, 21.1, 19.5, 18.5, 20.6, 19. , 18.7,\n",
      "       32.7, 16.5, 23.9, 31.2, 17.5, 17.2, 23.1, 24.5, 26.6, 22.9, 24.1,\n",
      "       18.6, 30.1, 18.2, 20.6, 17.8, 21.7, 22.7, 22.6, 25. , 19.9, 20.8,\n",
      "       16.8, 21.9, 27.5, 21.9, 23.1, 50. , 50. , 50. , 50. , 50. , 13.8,\n",
      "       13.8, 15. , 13.9, 13.3, 13.1, 10.2, 10.4, 10.9, 11.3, 12.3,  8.8,\n",
      "        7.2, 10.5,  7.4, 10.2, 11.5, 15.1, 23.2,  9.7, 13.8, 12.7, 13.1,\n",
      "       12.5,  8.5,  5. ,  6.3,  5.6,  7.2, 12.1,  8.3,  8.5,  5. , 11.9,\n",
      "       27.9, 17.2, 27.5, 15. , 17.2, 17.9, 16.3,  7. ,  7.2,  7.5, 10.4,\n",
      "        8.8,  8.4, 16.7, 14.2, 20.8, 13.4, 11.7,  8.3, 10.2, 10.9, 11. ,\n",
      "        9.5, 14.5, 14.1, 16.1, 14.3, 11.7, 13.4,  9.6,  8.7,  8.4, 12.8,\n",
      "       10.5, 17.1, 18.4, 15.4, 10.8, 11.8, 14.9, 12.6, 14.1, 13. , 13.4,\n",
      "       15.2, 16.1, 17.8, 14.9, 14.1, 12.7, 13.5, 14.9, 20. , 16.4, 17.7,\n",
      "       19.5, 20.2, 21.4, 19.9, 19. , 19.1, 19.1, 20.1, 19.9, 19.6, 23.2,\n",
      "       29.8, 13.8, 13.3, 16.7, 12. , 14.6, 21.4, 23. , 23.7, 25. , 21.8,\n",
      "       20.6, 21.2, 19.1, 20.6, 15.2,  7. ,  8.1, 13.6, 20.1, 21.8, 24.5,\n",
      "       23.1, 19.7, 18.3, 21.2, 17.5, 16.8, 22.4, 20.6, 23.9, 22. , 11.9]))\n",
      "\n",
      "\n",
      "['data', 'feature_names', 'target']\n"
     ]
    }
   ],
   "source": [
    "# show the dataset\n",
    "print(boston_dataset)\n",
    "\n",
    "# print a return space\n",
    "print('\\n')\n",
    "\n",
    "# show the keys\n",
    "print(boston_dataset.keys())"
   ]
  },
  {
   "cell_type": "markdown",
   "metadata": {
    "id": "zCjjVtOoIWMH"
   },
   "source": [
    "As we can see this is actually a dictionary with 'data' (the X's we can use), 'target' (the Y's), 'feature_names' (the names of all of the columns that represent X), 'DESCR' (a description of the data) and 'filename' (I'll let you guess). With this in mind let's add the X's to a DataFrame:"
   ]
  },
  {
   "cell_type": "code",
   "execution_count": 5,
   "metadata": {
    "colab": {
     "base_uri": "https://localhost:8080/",
     "height": 206
    },
    "id": "2qL857JTIcAo",
    "outputId": "163bc6e9-ce79-44c6-b953-71ad74e29f7e"
   },
   "outputs": [
    {
     "data": {
      "text/html": [
       "<div>\n",
       "<style scoped>\n",
       "    .dataframe tbody tr th:only-of-type {\n",
       "        vertical-align: middle;\n",
       "    }\n",
       "\n",
       "    .dataframe tbody tr th {\n",
       "        vertical-align: top;\n",
       "    }\n",
       "\n",
       "    .dataframe thead th {\n",
       "        text-align: right;\n",
       "    }\n",
       "</style>\n",
       "<table border=\"1\" class=\"dataframe\">\n",
       "  <thead>\n",
       "    <tr style=\"text-align: right;\">\n",
       "      <th></th>\n",
       "      <th>CRIM</th>\n",
       "      <th>ZN</th>\n",
       "      <th>INDUS</th>\n",
       "      <th>CHAS</th>\n",
       "      <th>NOX</th>\n",
       "      <th>RM</th>\n",
       "      <th>AGE</th>\n",
       "      <th>DIS</th>\n",
       "      <th>RAD</th>\n",
       "      <th>TAX</th>\n",
       "      <th>PTRATIO</th>\n",
       "      <th>B</th>\n",
       "      <th>LSTAT</th>\n",
       "    </tr>\n",
       "  </thead>\n",
       "  <tbody>\n",
       "    <tr>\n",
       "      <th>0</th>\n",
       "      <td>0.00632</td>\n",
       "      <td>18.0</td>\n",
       "      <td>2.31</td>\n",
       "      <td>0.0</td>\n",
       "      <td>0.538</td>\n",
       "      <td>6.575</td>\n",
       "      <td>65.2</td>\n",
       "      <td>4.0900</td>\n",
       "      <td>1.0</td>\n",
       "      <td>296.0</td>\n",
       "      <td>15.3</td>\n",
       "      <td>396.90</td>\n",
       "      <td>4.98</td>\n",
       "    </tr>\n",
       "    <tr>\n",
       "      <th>1</th>\n",
       "      <td>0.02731</td>\n",
       "      <td>0.0</td>\n",
       "      <td>7.07</td>\n",
       "      <td>0.0</td>\n",
       "      <td>0.469</td>\n",
       "      <td>6.421</td>\n",
       "      <td>78.9</td>\n",
       "      <td>4.9671</td>\n",
       "      <td>2.0</td>\n",
       "      <td>242.0</td>\n",
       "      <td>17.8</td>\n",
       "      <td>396.90</td>\n",
       "      <td>9.14</td>\n",
       "    </tr>\n",
       "    <tr>\n",
       "      <th>2</th>\n",
       "      <td>0.02729</td>\n",
       "      <td>0.0</td>\n",
       "      <td>7.07</td>\n",
       "      <td>0.0</td>\n",
       "      <td>0.469</td>\n",
       "      <td>7.185</td>\n",
       "      <td>61.1</td>\n",
       "      <td>4.9671</td>\n",
       "      <td>2.0</td>\n",
       "      <td>242.0</td>\n",
       "      <td>17.8</td>\n",
       "      <td>392.83</td>\n",
       "      <td>4.03</td>\n",
       "    </tr>\n",
       "    <tr>\n",
       "      <th>3</th>\n",
       "      <td>0.03237</td>\n",
       "      <td>0.0</td>\n",
       "      <td>2.18</td>\n",
       "      <td>0.0</td>\n",
       "      <td>0.458</td>\n",
       "      <td>6.998</td>\n",
       "      <td>45.8</td>\n",
       "      <td>6.0622</td>\n",
       "      <td>3.0</td>\n",
       "      <td>222.0</td>\n",
       "      <td>18.7</td>\n",
       "      <td>394.63</td>\n",
       "      <td>2.94</td>\n",
       "    </tr>\n",
       "    <tr>\n",
       "      <th>4</th>\n",
       "      <td>0.06905</td>\n",
       "      <td>0.0</td>\n",
       "      <td>2.18</td>\n",
       "      <td>0.0</td>\n",
       "      <td>0.458</td>\n",
       "      <td>7.147</td>\n",
       "      <td>54.2</td>\n",
       "      <td>6.0622</td>\n",
       "      <td>3.0</td>\n",
       "      <td>222.0</td>\n",
       "      <td>18.7</td>\n",
       "      <td>396.90</td>\n",
       "      <td>5.33</td>\n",
       "    </tr>\n",
       "  </tbody>\n",
       "</table>\n",
       "</div>"
      ],
      "text/plain": [
       "      CRIM    ZN  INDUS  CHAS    NOX     RM   AGE     DIS  RAD    TAX  \\\n",
       "0  0.00632  18.0   2.31   0.0  0.538  6.575  65.2  4.0900  1.0  296.0   \n",
       "1  0.02731   0.0   7.07   0.0  0.469  6.421  78.9  4.9671  2.0  242.0   \n",
       "2  0.02729   0.0   7.07   0.0  0.469  7.185  61.1  4.9671  2.0  242.0   \n",
       "3  0.03237   0.0   2.18   0.0  0.458  6.998  45.8  6.0622  3.0  222.0   \n",
       "4  0.06905   0.0   2.18   0.0  0.458  7.147  54.2  6.0622  3.0  222.0   \n",
       "\n",
       "   PTRATIO       B  LSTAT  \n",
       "0     15.3  396.90   4.98  \n",
       "1     17.8  396.90   9.14  \n",
       "2     17.8  392.83   4.03  \n",
       "3     18.7  394.63   2.94  \n",
       "4     18.7  396.90   5.33  "
      ]
     },
     "execution_count": 5,
     "metadata": {},
     "output_type": "execute_result"
    }
   ],
   "source": [
    "# convert to data frame using Pandas\n",
    "boston = pd.DataFrame(boston_dataset.data, columns=boston_dataset.feature_names)\n",
    "boston.head()"
   ]
  },
  {
   "cell_type": "markdown",
   "metadata": {
    "id": "nX2xbkuMIjAv"
   },
   "source": [
    "We will also create a variable for the Y value:"
   ]
  },
  {
   "cell_type": "code",
   "execution_count": 6,
   "metadata": {
    "colab": {
     "base_uri": "https://localhost:8080/"
    },
    "id": "R2antsWmIluJ",
    "outputId": "aa9bef61-d590-4cc1-8d38-9bffb1cf0717"
   },
   "outputs": [
    {
     "data": {
      "text/plain": [
       "array([24. , 21.6, 34.7, 33.4, 36.2, 28.7, 22.9, 27.1, 16.5, 18.9, 15. ,\n",
       "       18.9, 21.7, 20.4, 18.2, 19.9, 23.1, 17.5, 20.2, 18.2, 13.6, 19.6,\n",
       "       15.2, 14.5, 15.6, 13.9, 16.6, 14.8, 18.4, 21. , 12.7, 14.5, 13.2,\n",
       "       13.1, 13.5, 18.9, 20. , 21. , 24.7, 30.8, 34.9, 26.6, 25.3, 24.7,\n",
       "       21.2, 19.3, 20. , 16.6, 14.4, 19.4, 19.7, 20.5, 25. , 23.4, 18.9,\n",
       "       35.4, 24.7, 31.6, 23.3, 19.6, 18.7, 16. , 22.2, 25. , 33. , 23.5,\n",
       "       19.4, 22. , 17.4, 20.9, 24.2, 21.7, 22.8, 23.4, 24.1, 21.4, 20. ,\n",
       "       20.8, 21.2, 20.3, 28. , 23.9, 24.8, 22.9, 23.9, 26.6, 22.5, 22.2,\n",
       "       23.6, 28.7, 22.6, 22. , 22.9, 25. , 20.6, 28.4, 21.4, 38.7, 43.8,\n",
       "       33.2, 27.5, 26.5, 18.6, 19.3, 20.1, 19.5, 19.5, 20.4, 19.8, 19.4,\n",
       "       21.7, 22.8, 18.8, 18.7, 18.5, 18.3, 21.2, 19.2, 20.4, 19.3, 22. ,\n",
       "       20.3, 20.5, 17.3, 18.8, 21.4, 15.7, 16.2, 18. , 14.3, 19.2, 19.6,\n",
       "       23. , 18.4, 15.6, 18.1, 17.4, 17.1, 13.3, 17.8, 14. , 14.4, 13.4,\n",
       "       15.6, 11.8, 13.8, 15.6, 14.6, 17.8, 15.4, 21.5, 19.6, 15.3, 19.4,\n",
       "       17. , 15.6, 13.1, 41.3, 24.3, 23.3, 27. , 50. , 50. , 50. , 22.7,\n",
       "       25. , 50. , 23.8, 23.8, 22.3, 17.4, 19.1, 23.1, 23.6, 22.6, 29.4,\n",
       "       23.2, 24.6, 29.9, 37.2, 39.8, 36.2, 37.9, 32.5, 26.4, 29.6, 50. ,\n",
       "       32. , 29.8, 34.9, 37. , 30.5, 36.4, 31.1, 29.1, 50. , 33.3, 30.3,\n",
       "       34.6, 34.9, 32.9, 24.1, 42.3, 48.5, 50. , 22.6, 24.4, 22.5, 24.4,\n",
       "       20. , 21.7, 19.3, 22.4, 28.1, 23.7, 25. , 23.3, 28.7, 21.5, 23. ,\n",
       "       26.7, 21.7, 27.5, 30.1, 44.8, 50. , 37.6, 31.6, 46.7, 31.5, 24.3,\n",
       "       31.7, 41.7, 48.3, 29. , 24. , 25.1, 31.5, 23.7, 23.3, 22. , 20.1,\n",
       "       22.2, 23.7, 17.6, 18.5, 24.3, 20.5, 24.5, 26.2, 24.4, 24.8, 29.6,\n",
       "       42.8, 21.9, 20.9, 44. , 50. , 36. , 30.1, 33.8, 43.1, 48.8, 31. ,\n",
       "       36.5, 22.8, 30.7, 50. , 43.5, 20.7, 21.1, 25.2, 24.4, 35.2, 32.4,\n",
       "       32. , 33.2, 33.1, 29.1, 35.1, 45.4, 35.4, 46. , 50. , 32.2, 22. ,\n",
       "       20.1, 23.2, 22.3, 24.8, 28.5, 37.3, 27.9, 23.9, 21.7, 28.6, 27.1,\n",
       "       20.3, 22.5, 29. , 24.8, 22. , 26.4, 33.1, 36.1, 28.4, 33.4, 28.2,\n",
       "       22.8, 20.3, 16.1, 22.1, 19.4, 21.6, 23.8, 16.2, 17.8, 19.8, 23.1,\n",
       "       21. , 23.8, 23.1, 20.4, 18.5, 25. , 24.6, 23. , 22.2, 19.3, 22.6,\n",
       "       19.8, 17.1, 19.4, 22.2, 20.7, 21.1, 19.5, 18.5, 20.6, 19. , 18.7,\n",
       "       32.7, 16.5, 23.9, 31.2, 17.5, 17.2, 23.1, 24.5, 26.6, 22.9, 24.1,\n",
       "       18.6, 30.1, 18.2, 20.6, 17.8, 21.7, 22.7, 22.6, 25. , 19.9, 20.8,\n",
       "       16.8, 21.9, 27.5, 21.9, 23.1, 50. , 50. , 50. , 50. , 50. , 13.8,\n",
       "       13.8, 15. , 13.9, 13.3, 13.1, 10.2, 10.4, 10.9, 11.3, 12.3,  8.8,\n",
       "        7.2, 10.5,  7.4, 10.2, 11.5, 15.1, 23.2,  9.7, 13.8, 12.7, 13.1,\n",
       "       12.5,  8.5,  5. ,  6.3,  5.6,  7.2, 12.1,  8.3,  8.5,  5. , 11.9,\n",
       "       27.9, 17.2, 27.5, 15. , 17.2, 17.9, 16.3,  7. ,  7.2,  7.5, 10.4,\n",
       "        8.8,  8.4, 16.7, 14.2, 20.8, 13.4, 11.7,  8.3, 10.2, 10.9, 11. ,\n",
       "        9.5, 14.5, 14.1, 16.1, 14.3, 11.7, 13.4,  9.6,  8.7,  8.4, 12.8,\n",
       "       10.5, 17.1, 18.4, 15.4, 10.8, 11.8, 14.9, 12.6, 14.1, 13. , 13.4,\n",
       "       15.2, 16.1, 17.8, 14.9, 14.1, 12.7, 13.5, 14.9, 20. , 16.4, 17.7,\n",
       "       19.5, 20.2, 21.4, 19.9, 19. , 19.1, 19.1, 20.1, 19.9, 19.6, 23.2,\n",
       "       29.8, 13.8, 13.3, 16.7, 12. , 14.6, 21.4, 23. , 23.7, 25. , 21.8,\n",
       "       20.6, 21.2, 19.1, 20.6, 15.2,  7. ,  8.1, 13.6, 20.1, 21.8, 24.5,\n",
       "       23.1, 19.7, 18.3, 21.2, 17.5, 16.8, 22.4, 20.6, 23.9, 22. , 11.9])"
      ]
     },
     "execution_count": 6,
     "metadata": {},
     "output_type": "execute_result"
    }
   ],
   "source": [
    "# create a separate Y value\n",
    "boston_Y = boston_dataset.target\n",
    "boston_Y"
   ]
  },
  {
   "cell_type": "markdown",
   "metadata": {
    "id": "vKLv-RCpMzFo"
   },
   "source": [
    "### STEP TWO: Perform data cleaning & transformations\n",
    "Borrowing from another workbook, we can do some basic data cleaning steps/transformations"
   ]
  },
  {
   "cell_type": "code",
   "execution_count": 7,
   "metadata": {
    "colab": {
     "base_uri": "https://localhost:8080/"
    },
    "id": "yTUvTzO8NN22",
    "outputId": "9186238b-1784-4560-8c5a-79cf781c8436"
   },
   "outputs": [
    {
     "name": "stdout",
     "output_type": "stream",
     "text": [
      "CRIM       float64\n",
      "ZN         float64\n",
      "INDUS      float64\n",
      "CHAS       float64\n",
      "NOX        float64\n",
      "RM         float64\n",
      "AGE        float64\n",
      "DIS        float64\n",
      "RAD        float64\n",
      "TAX        float64\n",
      "PTRATIO    float64\n",
      "B          float64\n",
      "LSTAT      float64\n",
      "dtype: object\n"
     ]
    }
   ],
   "source": [
    "print(boston.dtypes)"
   ]
  },
  {
   "cell_type": "code",
   "execution_count": 8,
   "metadata": {
    "colab": {
     "base_uri": "https://localhost:8080/"
    },
    "id": "60iBxucHNveR",
    "outputId": "cd04aeef-e4ce-4a44-ef11-10704119800a"
   },
   "outputs": [
    {
     "name": "stdout",
     "output_type": "stream",
     "text": [
      "float64\n"
     ]
    }
   ],
   "source": [
    "print(boston_Y.dtype)"
   ]
  },
  {
   "cell_type": "markdown",
   "metadata": {
    "id": "q74OjHW5OUVQ"
   },
   "source": [
    "All of our values are \"float64\" - 64-bit real numbers (numbers with decimal points). We are happy with any numerical format which is what this is. \n",
    "\n",
    "From here we can check for missing values:\n",
    "\n",
    "*As a brief note on the second command, boston_Y is not a Pandas DataFrame but a numpy \"ndarray\". By definition an ndarray must all be of the same data type (there is a data type which allows mixed data - records). Becasue of this the command is \"dtype\" here and \"dtypes\" for our features DataFrame.*"
   ]
  },
  {
   "cell_type": "code",
   "execution_count": 9,
   "metadata": {
    "colab": {
     "base_uri": "https://localhost:8080/"
    },
    "id": "u6byhd2PPaou",
    "outputId": "d89546ee-ffff-42ba-abb9-ecf3c49a5be2"
   },
   "outputs": [
    {
     "name": "stdout",
     "output_type": "stream",
     "text": [
      "CRIM       0\n",
      "ZN         0\n",
      "INDUS      0\n",
      "CHAS       0\n",
      "NOX        0\n",
      "RM         0\n",
      "AGE        0\n",
      "DIS        0\n",
      "RAD        0\n",
      "TAX        0\n",
      "PTRATIO    0\n",
      "B          0\n",
      "LSTAT      0\n",
      "dtype: int64\n"
     ]
    }
   ],
   "source": [
    "print(boston.isnull().sum())"
   ]
  },
  {
   "cell_type": "code",
   "execution_count": 10,
   "metadata": {
    "colab": {
     "base_uri": "https://localhost:8080/"
    },
    "id": "87V1NkPrPkvh",
    "outputId": "1a7d4e02-2769-4332-c916-aad0d929aedf"
   },
   "outputs": [
    {
     "name": "stdout",
     "output_type": "stream",
     "text": [
      "[False False False False False False False False False False False False\n",
      " False False False False False False False False False False False False\n",
      " False False False False False False False False False False False False\n",
      " False False False False False False False False False False False False\n",
      " False False False False False False False False False False False False\n",
      " False False False False False False False False False False False False\n",
      " False False False False False False False False False False False False\n",
      " False False False False False False False False False False False False\n",
      " False False False False False False False False False False False False\n",
      " False False False False False False False False False False False False\n",
      " False False False False False False False False False False False False\n",
      " False False False False False False False False False False False False\n",
      " False False False False False False False False False False False False\n",
      " False False False False False False False False False False False False\n",
      " False False False False False False False False False False False False\n",
      " False False False False False False False False False False False False\n",
      " False False False False False False False False False False False False\n",
      " False False False False False False False False False False False False\n",
      " False False False False False False False False False False False False\n",
      " False False False False False False False False False False False False\n",
      " False False False False False False False False False False False False\n",
      " False False False False False False False False False False False False\n",
      " False False False False False False False False False False False False\n",
      " False False False False False False False False False False False False\n",
      " False False False False False False False False False False False False\n",
      " False False False False False False False False False False False False\n",
      " False False False False False False False False False False False False\n",
      " False False False False False False False False False False False False\n",
      " False False False False False False False False False False False False\n",
      " False False False False False False False False False False False False\n",
      " False False False False False False False False False False False False\n",
      " False False False False False False False False False False False False\n",
      " False False False False False False False False False False False False\n",
      " False False False False False False False False False False False False\n",
      " False False False False False False False False False False False False\n",
      " False False False False False False False False False False False False\n",
      " False False False False False False False False False False False False\n",
      " False False False False False False False False False False False False\n",
      " False False False False False False False False False False False False\n",
      " False False False False False False False False False False False False\n",
      " False False False False False False False False False False False False\n",
      " False False False False False False False False False False False False\n",
      " False False]\n"
     ]
    }
   ],
   "source": [
    "print(np.isnan(boston_Y))"
   ]
  },
  {
   "cell_type": "markdown",
   "metadata": {
    "id": "V_YC980aP4_N"
   },
   "source": [
    "No missing values! Let's wrap by noramlising the data.\n",
    "\n",
    "_Again, note the slightly different (numpy) code when checking the target values. Further note, we could have just added the target to the DataFrame before doing these steps (easier - less code), but its an opportunity to show you the numpy equivalents._"
   ]
  },
  {
   "cell_type": "code",
   "execution_count": 11,
   "metadata": {
    "colab": {
     "base_uri": "https://localhost:8080/",
     "height": 206
    },
    "id": "B-entt_OQemo",
    "outputId": "0832b69f-01f4-4a46-f7e1-bdf4b0116980"
   },
   "outputs": [
    {
     "data": {
      "text/html": [
       "<div>\n",
       "<style scoped>\n",
       "    .dataframe tbody tr th:only-of-type {\n",
       "        vertical-align: middle;\n",
       "    }\n",
       "\n",
       "    .dataframe tbody tr th {\n",
       "        vertical-align: top;\n",
       "    }\n",
       "\n",
       "    .dataframe thead th {\n",
       "        text-align: right;\n",
       "    }\n",
       "</style>\n",
       "<table border=\"1\" class=\"dataframe\">\n",
       "  <thead>\n",
       "    <tr style=\"text-align: right;\">\n",
       "      <th></th>\n",
       "      <th>CRIM</th>\n",
       "      <th>ZN</th>\n",
       "      <th>INDUS</th>\n",
       "      <th>CHAS</th>\n",
       "      <th>NOX</th>\n",
       "      <th>RM</th>\n",
       "      <th>AGE</th>\n",
       "      <th>DIS</th>\n",
       "      <th>RAD</th>\n",
       "      <th>TAX</th>\n",
       "      <th>PTRATIO</th>\n",
       "      <th>B</th>\n",
       "      <th>LSTAT</th>\n",
       "    </tr>\n",
       "  </thead>\n",
       "  <tbody>\n",
       "    <tr>\n",
       "      <th>0</th>\n",
       "      <td>-0.069593</td>\n",
       "      <td>1.44</td>\n",
       "      <td>-0.571650</td>\n",
       "      <td>0.0</td>\n",
       "      <td>0.000000</td>\n",
       "      <td>0.496612</td>\n",
       "      <td>-0.250765</td>\n",
       "      <td>0.285777</td>\n",
       "      <td>-0.20</td>\n",
       "      <td>-0.087855</td>\n",
       "      <td>-1.339286</td>\n",
       "      <td>0.261902</td>\n",
       "      <td>-0.637681</td>\n",
       "    </tr>\n",
       "    <tr>\n",
       "      <th>1</th>\n",
       "      <td>-0.063755</td>\n",
       "      <td>0.00</td>\n",
       "      <td>-0.202943</td>\n",
       "      <td>0.0</td>\n",
       "      <td>-0.394286</td>\n",
       "      <td>0.287940</td>\n",
       "      <td>0.028542</td>\n",
       "      <td>0.569789</td>\n",
       "      <td>-0.15</td>\n",
       "      <td>-0.227390</td>\n",
       "      <td>-0.446429</td>\n",
       "      <td>0.261902</td>\n",
       "      <td>-0.221889</td>\n",
       "    </tr>\n",
       "    <tr>\n",
       "      <th>2</th>\n",
       "      <td>-0.063760</td>\n",
       "      <td>0.00</td>\n",
       "      <td>-0.202943</td>\n",
       "      <td>0.0</td>\n",
       "      <td>-0.394286</td>\n",
       "      <td>1.323171</td>\n",
       "      <td>-0.334353</td>\n",
       "      <td>0.569789</td>\n",
       "      <td>-0.15</td>\n",
       "      <td>-0.227390</td>\n",
       "      <td>-0.446429</td>\n",
       "      <td>0.066675</td>\n",
       "      <td>-0.732634</td>\n",
       "    </tr>\n",
       "    <tr>\n",
       "      <th>3</th>\n",
       "      <td>-0.062347</td>\n",
       "      <td>0.00</td>\n",
       "      <td>-0.581720</td>\n",
       "      <td>0.0</td>\n",
       "      <td>-0.457143</td>\n",
       "      <td>1.069783</td>\n",
       "      <td>-0.646279</td>\n",
       "      <td>0.924391</td>\n",
       "      <td>-0.10</td>\n",
       "      <td>-0.279070</td>\n",
       "      <td>-0.125000</td>\n",
       "      <td>0.153016</td>\n",
       "      <td>-0.841579</td>\n",
       "    </tr>\n",
       "    <tr>\n",
       "      <th>4</th>\n",
       "      <td>-0.052144</td>\n",
       "      <td>0.00</td>\n",
       "      <td>-0.581720</td>\n",
       "      <td>0.0</td>\n",
       "      <td>-0.457143</td>\n",
       "      <td>1.271680</td>\n",
       "      <td>-0.475025</td>\n",
       "      <td>0.924391</td>\n",
       "      <td>-0.10</td>\n",
       "      <td>-0.279070</td>\n",
       "      <td>-0.125000</td>\n",
       "      <td>0.261902</td>\n",
       "      <td>-0.602699</td>\n",
       "    </tr>\n",
       "  </tbody>\n",
       "</table>\n",
       "</div>"
      ],
      "text/plain": [
       "       CRIM    ZN     INDUS  CHAS       NOX        RM       AGE       DIS  \\\n",
       "0 -0.069593  1.44 -0.571650   0.0  0.000000  0.496612 -0.250765  0.285777   \n",
       "1 -0.063755  0.00 -0.202943   0.0 -0.394286  0.287940  0.028542  0.569789   \n",
       "2 -0.063760  0.00 -0.202943   0.0 -0.394286  1.323171 -0.334353  0.569789   \n",
       "3 -0.062347  0.00 -0.581720   0.0 -0.457143  1.069783 -0.646279  0.924391   \n",
       "4 -0.052144  0.00 -0.581720   0.0 -0.457143  1.271680 -0.475025  0.924391   \n",
       "\n",
       "    RAD       TAX   PTRATIO         B     LSTAT  \n",
       "0 -0.20 -0.087855 -1.339286  0.261902 -0.637681  \n",
       "1 -0.15 -0.227390 -0.446429  0.261902 -0.221889  \n",
       "2 -0.15 -0.227390 -0.446429  0.066675 -0.732634  \n",
       "3 -0.10 -0.279070 -0.125000  0.153016 -0.841579  \n",
       "4 -0.10 -0.279070 -0.125000  0.261902 -0.602699  "
      ]
     },
     "execution_count": 11,
     "metadata": {},
     "output_type": "execute_result"
    }
   ],
   "source": [
    "from sklearn.preprocessing import RobustScaler\n",
    "\n",
    "scaler = RobustScaler()\n",
    "\n",
    "# get the column names\n",
    "names = boston.columns\n",
    "\n",
    "df = scaler.fit_transform(boston)\n",
    "boston = pd.DataFrame(df, columns=names)\n",
    "boston.head()"
   ]
  },
  {
   "cell_type": "markdown",
   "metadata": {
    "id": "g9YirkXPRYQY"
   },
   "source": [
    "From here we have a tidy, normalised and clean DataFrame. However, we can do some further engineeering..."
   ]
  },
  {
   "cell_type": "markdown",
   "metadata": {
    "id": "UhYhp47pRiPA"
   },
   "source": [
    "### STEP THREE: Feature Engineering\n",
    "There are many things we can do here of course. For now we will limit it ourselves to check the distribution of the the target value (\"MV\") and checking for multicolinearity:"
   ]
  },
  {
   "cell_type": "code",
   "execution_count": 12,
   "metadata": {
    "colab": {
     "base_uri": "https://localhost:8080/",
     "height": 369
    },
    "id": "pZlazxroR11-",
    "outputId": "1cb68191-d00e-42e6-c92a-fff0f091c284"
   },
   "outputs": [
    {
     "data": {
      "image/png": "[encoded data removed]",
      "text/plain": [
       "<Figure size 500x500 with 1 Axes>"
      ]
     },
     "metadata": {},
     "output_type": "display_data"
    }
   ],
   "source": [
    "ax = sns.displot(boston_Y)"
   ]
  },
  {
   "cell_type": "code",
   "execution_count": 13,
   "metadata": {
    "colab": {
     "base_uri": "https://localhost:8080/",
     "height": 318
    },
    "id": "gN83KGgSSDcB",
    "outputId": "8a37258a-6027-403c-cb5f-15b0e416dc14"
   },
   "outputs": [
    {
     "data": {
      "text/plain": [
       "<Axes: >"
      ]
     },
     "execution_count": 13,
     "metadata": {},
     "output_type": "execute_result"
    },
    {
     "data": {
      "image/png": "[encoded data removed]",
      "text/plain": [
       "<Figure size 640x480 with 2 Axes>"
      ]
     },
     "metadata": {},
     "output_type": "display_data"
    }
   ],
   "source": [
    "# create a correlation matrix rounding to one decimal point\n",
    "correlation_matrix = boston.corr().round(1)\n",
    "# print a correlation heat map\n",
    "sns.heatmap(data=correlation_matrix, annot=True)"
   ]
  },
  {
   "cell_type": "markdown",
   "metadata": {
    "id": "n50jBG_vSIYD"
   },
   "source": [
    "The normality of our target is clearly not perfect, but probably close enough for us not to worry too much. \n",
    "\n",
    "We also use it to see if any of our features have high positive or negative correlation. There are a few we might be concerned about but the most so is \"RAD\" and \"TAX\" at 0.9. We should probably drop one but which? We could take a data driven approach and compare their correlation with \"MV\". In this case \"RAD\" is -0.4 and \"TAX\" -0.5 - so \"TAX\" has the stronger effect and \"RAD\" should be dropped. We may also consider what the data means (theory driven). To save you going back to the description in the previous Notebook, \"RAD\" is defined as \"[the] index of accessibility to radial highways\" and \"TAX\" as \"full-value property-tax rate per \\$10,000\". So one relates to closeness to key roads and the other relates to property tax ... I would assume \"TAX\" to be more relevant in our task. Either way we arrive at the same conclusion and should drop \"RAD\"."
   ]
  },
  {
   "cell_type": "code",
   "execution_count": 14,
   "metadata": {
    "colab": {
     "base_uri": "https://localhost:8080/",
     "height": 206
    },
    "id": "PxlTeddOSttr",
    "outputId": "e4f734a8-6078-4562-f145-e39c79430d0b"
   },
   "outputs": [
    {
     "data": {
      "text/html": [
       "<div>\n",
       "<style scoped>\n",
       "    .dataframe tbody tr th:only-of-type {\n",
       "        vertical-align: middle;\n",
       "    }\n",
       "\n",
       "    .dataframe tbody tr th {\n",
       "        vertical-align: top;\n",
       "    }\n",
       "\n",
       "    .dataframe thead th {\n",
       "        text-align: right;\n",
       "    }\n",
       "</style>\n",
       "<table border=\"1\" class=\"dataframe\">\n",
       "  <thead>\n",
       "    <tr style=\"text-align: right;\">\n",
       "      <th></th>\n",
       "      <th>CRIM</th>\n",
       "      <th>ZN</th>\n",
       "      <th>INDUS</th>\n",
       "      <th>CHAS</th>\n",
       "      <th>NOX</th>\n",
       "      <th>RM</th>\n",
       "      <th>AGE</th>\n",
       "      <th>DIS</th>\n",
       "      <th>TAX</th>\n",
       "      <th>PTRATIO</th>\n",
       "      <th>B</th>\n",
       "      <th>LSTAT</th>\n",
       "    </tr>\n",
       "  </thead>\n",
       "  <tbody>\n",
       "    <tr>\n",
       "      <th>0</th>\n",
       "      <td>-0.069593</td>\n",
       "      <td>1.44</td>\n",
       "      <td>-0.571650</td>\n",
       "      <td>0.0</td>\n",
       "      <td>0.000000</td>\n",
       "      <td>0.496612</td>\n",
       "      <td>-0.250765</td>\n",
       "      <td>0.285777</td>\n",
       "      <td>-0.087855</td>\n",
       "      <td>-1.339286</td>\n",
       "      <td>0.261902</td>\n",
       "      <td>-0.637681</td>\n",
       "    </tr>\n",
       "    <tr>\n",
       "      <th>1</th>\n",
       "      <td>-0.063755</td>\n",
       "      <td>0.00</td>\n",
       "      <td>-0.202943</td>\n",
       "      <td>0.0</td>\n",
       "      <td>-0.394286</td>\n",
       "      <td>0.287940</td>\n",
       "      <td>0.028542</td>\n",
       "      <td>0.569789</td>\n",
       "      <td>-0.227390</td>\n",
       "      <td>-0.446429</td>\n",
       "      <td>0.261902</td>\n",
       "      <td>-0.221889</td>\n",
       "    </tr>\n",
       "    <tr>\n",
       "      <th>2</th>\n",
       "      <td>-0.063760</td>\n",
       "      <td>0.00</td>\n",
       "      <td>-0.202943</td>\n",
       "      <td>0.0</td>\n",
       "      <td>-0.394286</td>\n",
       "      <td>1.323171</td>\n",
       "      <td>-0.334353</td>\n",
       "      <td>0.569789</td>\n",
       "      <td>-0.227390</td>\n",
       "      <td>-0.446429</td>\n",
       "      <td>0.066675</td>\n",
       "      <td>-0.732634</td>\n",
       "    </tr>\n",
       "    <tr>\n",
       "      <th>3</th>\n",
       "      <td>-0.062347</td>\n",
       "      <td>0.00</td>\n",
       "      <td>-0.581720</td>\n",
       "      <td>0.0</td>\n",
       "      <td>-0.457143</td>\n",
       "      <td>1.069783</td>\n",
       "      <td>-0.646279</td>\n",
       "      <td>0.924391</td>\n",
       "      <td>-0.279070</td>\n",
       "      <td>-0.125000</td>\n",
       "      <td>0.153016</td>\n",
       "      <td>-0.841579</td>\n",
       "    </tr>\n",
       "    <tr>\n",
       "      <th>4</th>\n",
       "      <td>-0.052144</td>\n",
       "      <td>0.00</td>\n",
       "      <td>-0.581720</td>\n",
       "      <td>0.0</td>\n",
       "      <td>-0.457143</td>\n",
       "      <td>1.271680</td>\n",
       "      <td>-0.475025</td>\n",
       "      <td>0.924391</td>\n",
       "      <td>-0.279070</td>\n",
       "      <td>-0.125000</td>\n",
       "      <td>0.261902</td>\n",
       "      <td>-0.602699</td>\n",
       "    </tr>\n",
       "  </tbody>\n",
       "</table>\n",
       "</div>"
      ],
      "text/plain": [
       "       CRIM    ZN     INDUS  CHAS       NOX        RM       AGE       DIS  \\\n",
       "0 -0.069593  1.44 -0.571650   0.0  0.000000  0.496612 -0.250765  0.285777   \n",
       "1 -0.063755  0.00 -0.202943   0.0 -0.394286  0.287940  0.028542  0.569789   \n",
       "2 -0.063760  0.00 -0.202943   0.0 -0.394286  1.323171 -0.334353  0.569789   \n",
       "3 -0.062347  0.00 -0.581720   0.0 -0.457143  1.069783 -0.646279  0.924391   \n",
       "4 -0.052144  0.00 -0.581720   0.0 -0.457143  1.271680 -0.475025  0.924391   \n",
       "\n",
       "        TAX   PTRATIO         B     LSTAT  \n",
       "0 -0.087855 -1.339286  0.261902 -0.637681  \n",
       "1 -0.227390 -0.446429  0.261902 -0.221889  \n",
       "2 -0.227390 -0.446429  0.066675 -0.732634  \n",
       "3 -0.279070 -0.125000  0.153016 -0.841579  \n",
       "4 -0.279070 -0.125000  0.261902 -0.602699  "
      ]
     },
     "execution_count": 14,
     "metadata": {},
     "output_type": "execute_result"
    }
   ],
   "source": [
    "boston = boston.drop(['RAD'], axis=1)\n",
    "boston.head()"
   ]
  },
  {
   "cell_type": "markdown",
   "metadata": {
    "id": "TTa1L0ViS04f"
   },
   "source": [
    "For this quick example this will be enough ... but obviously feature engineering is a key process so you would spend more time on this, and also you will never normally get a dataset this clean!"
   ]
  },
  {
   "cell_type": "markdown",
   "metadata": {
    "id": "r4e40td-TABw"
   },
   "source": [
    "### STEP FOUR: Separate the target value\n",
    "Nothing to do here as our target value is already separate."
   ]
  },
  {
   "cell_type": "markdown",
   "metadata": {
    "id": "n4Y3RmKYTM94"
   },
   "source": [
    "### STEP FIVE: Split the data into training and test sets\n",
    "We will use an 80/20 split as we did before:"
   ]
  },
  {
   "cell_type": "code",
   "execution_count": 15,
   "metadata": {
    "colab": {
     "base_uri": "https://localhost:8080/"
    },
    "id": "36hCkwPOTXIQ",
    "outputId": "7c3657a1-4a6e-4563-abc4-46113422fc85"
   },
   "outputs": [
    {
     "name": "stdout",
     "output_type": "stream",
     "text": [
      "(404, 12)\n",
      "(102, 12)\n",
      "(404,)\n",
      "(102,)\n"
     ]
    }
   ],
   "source": [
    "# split data into training and test\n",
    "from sklearn.model_selection  import train_test_split\n",
    "X_train, X_test, Y_train, Y_test = train_test_split(boston, boston_Y, test_size = 0.2)\n",
    "\n",
    "# print the shapes to check everything is OK\n",
    "print(X_train.shape)\n",
    "print(X_test.shape)\n",
    "print(Y_train.shape)\n",
    "print(Y_test.shape)"
   ]
  },
  {
   "cell_type": "markdown",
   "metadata": {
    "id": "4mtk6U4aTiUH"
   },
   "source": [
    "### STEP SIX: Select the algorithms\n",
    "In keeping with the approach we previously used, we will select the following algorithms:\n",
    "\n",
    "\n",
    "1.   Linear Regression\n",
    "2.   Lasso Regression ($L1$ Regularisation)\n",
    "2.   Ridge Regression ($L2$ Regularisation)\n",
    "2.   ElasticNet (Both $L1$ and $L2$ Regularisation)\n",
    "\n"
   ]
  },
  {
   "cell_type": "markdown",
   "metadata": {
    "id": "OoLryN73UMJg"
   },
   "source": [
    "### STEP SEVEN: Optimise hyperparameters\n",
    "The following hyperparameters should be optimised:\n",
    "1.   Linear Regression - no hyperparameters\n",
    "2.   Lasso Regression - $\\alpha$ (alpha)\n",
    "2.   Ridge Regression - $\\alpha$ (alpha)\n",
    "2.   ElasticNet - $\\alpha$ (alpha) and $L1$ ratio (how much of the penalty should be $L1$ and how much $L2$)\n",
    "\n",
    "We will discuss hyperparameter optimisation strategies in later slides. For now, just use the following code:"
   ]
  },
  {
   "cell_type": "markdown",
   "metadata": {
    "id": "H60-OJt3VHgw"
   },
   "source": [
    "#### Lasso Regression"
   ]
  },
  {
   "cell_type": "code",
   "execution_count": 16,
   "metadata": {
    "colab": {
     "base_uri": "https://localhost:8080/"
    },
    "id": "68wFpqhpVKLW",
    "outputId": "171ade64-e06d-4637-9622-e955c007c909"
   },
   "outputs": [
    {
     "name": "stdout",
     "output_type": "stream",
     "text": [
      "# Tuning hyperparameters for neg_root_mean_squared_error\n",
      "\n",
      "\n",
      "Best parameters set found on the training set:\n",
      "{'alpha': 0.25}\n",
      "\n",
      "\n"
     ]
    }
   ],
   "source": [
    "from sklearn.linear_model import Lasso\n",
    "\n",
    "from sklearn.model_selection import GridSearchCV\n",
    "\n",
    "tuned_parameters = [{'alpha': [0.25, 0.5, 0.75]}] # test the listed alpha values\n",
    "\n",
    "scores = ['neg_root_mean_squared_error'] # test for RMSE\n",
    "\n",
    "for score in scores:\n",
    "    print(\"# Tuning hyperparameters for %s\" % score)\n",
    "    print(\"\\n\")\n",
    "    clf = GridSearchCV(Lasso(), tuned_parameters, cv=5,\n",
    "                       scoring= score)\n",
    "    clf.fit(X_train, Y_train)\n",
    "    print(\"Best parameters set found on the training set:\")\n",
    "    print(clf.best_params_)\n",
    "    print(\"\\n\")"
   ]
  },
  {
   "cell_type": "markdown",
   "metadata": {
    "id": "ByX7ZtZMV5j-"
   },
   "source": [
    "#### Ridge Regression"
   ]
  },
  {
   "cell_type": "code",
   "execution_count": 17,
   "metadata": {
    "colab": {
     "base_uri": "https://localhost:8080/"
    },
    "id": "6w_6uc03UCLn",
    "outputId": "0f841d13-4bee-4c98-b49c-a85b44f266e8"
   },
   "outputs": [
    {
     "name": "stdout",
     "output_type": "stream",
     "text": [
      "# Tuning hyperparameters for neg_root_mean_squared_error\n",
      "\n",
      "\n",
      "Best parameters set found on the training set:\n",
      "{'alpha': 0.75}\n",
      "\n",
      "\n"
     ]
    }
   ],
   "source": [
    "from sklearn.linear_model import Ridge\n",
    "\n",
    "tuned_parameters = [{'alpha': [0.25, 0.5, 0.75]}] # test the listed alpha values\n",
    "\n",
    "scores = ['neg_root_mean_squared_error'] # test for RMSE\n",
    "\n",
    "for score in scores:\n",
    "    print(\"# Tuning hyperparameters for %s\" % score)\n",
    "    print(\"\\n\")\n",
    "    clf = GridSearchCV(Ridge(), tuned_parameters, cv=5,\n",
    "                       scoring= score)\n",
    "    clf.fit(X_train, Y_train)\n",
    "    print(\"Best parameters set found on the training set:\")\n",
    "    print(clf.best_params_)\n",
    "    print(\"\\n\")"
   ]
  },
  {
   "cell_type": "markdown",
   "metadata": {
    "id": "cnIq5HEnWGCe"
   },
   "source": [
    "#### ElasticNet"
   ]
  },
  {
   "cell_type": "code",
   "execution_count": 18,
   "metadata": {
    "colab": {
     "base_uri": "https://localhost:8080/"
    },
    "id": "hk1Uvv_0WH98",
    "outputId": "4a65c7ab-ed33-489e-b087-20b938096146"
   },
   "outputs": [
    {
     "name": "stdout",
     "output_type": "stream",
     "text": [
      "# Tuning hyperparameters for neg_root_mean_squared_error\n",
      "\n",
      "\n",
      "Best parameters set found on the training set:\n",
      "{'alpha': 0.25, 'l1_ratio': 0.75}\n",
      "\n",
      "\n"
     ]
    }
   ],
   "source": [
    "from sklearn.linear_model import ElasticNet\n",
    "\n",
    "tuned_parameters = [{'alpha': [0.25, 0.5, 0.75], # test the listed alpha values\n",
    "                     'l1_ratio': [0.25, 0.5, 0.75]}] # test the listed L1 ratio values\n",
    "\n",
    "scores = ['neg_root_mean_squared_error'] # test for RMSE\n",
    "\n",
    "for score in scores:\n",
    "    print(\"# Tuning hyperparameters for %s\" % score)\n",
    "    print(\"\\n\")\n",
    "    clf = GridSearchCV(ElasticNet(), tuned_parameters, cv=5,\n",
    "                       scoring= score)\n",
    "    clf.fit(X_train, Y_train)\n",
    "    print(\"Best parameters set found on the training set:\")\n",
    "    print(clf.best_params_)\n",
    "    print(\"\\n\")"
   ]
  },
  {
   "cell_type": "markdown",
   "metadata": {
    "id": "VesYfYiVWd6p"
   },
   "source": [
    "The final list is:\n",
    "1.   Linear Regression - still no hyperparameters\n",
    "2.   Lasso Regression - $\\alpha = 0.25$\n",
    "2.   Ridge Regression - $\\alpha = 0.75$\n",
    "2.   ElasticNet - $\\alpha = 0.25$ and $L1$ ratio $= 0.75$\n",
    "\n",
    "_Note, as we will disucss it is possible you may have different results!_"
   ]
  },
  {
   "cell_type": "markdown",
   "metadata": {
    "id": "GbUlSY1TXMPF"
   },
   "source": [
    "### STEP EIGHT: Run the algorithms/build the models\n",
    "Let's see who wins!"
   ]
  },
  {
   "cell_type": "code",
   "execution_count": 19,
   "metadata": {
    "colab": {
     "base_uri": "https://localhost:8080/"
    },
    "id": "XkwFFMgKXcHW",
    "outputId": "75b4a619-4aa9-463b-bfe1-86f836406b11"
   },
   "outputs": [
    {
     "name": "stdout",
     "output_type": "stream",
     "text": [
      " LinearRegression() - Model performance\n",
      "--------------------------------------\n",
      "RMSE is 4.967668094922587\n",
      "R2 score is 0.722274147027779\n",
      "\n",
      "\n",
      " Lasso(alpha=0.25) - Model performance\n",
      "--------------------------------------\n",
      "RMSE is 5.206512768483146\n",
      "R2 score is 0.6949261086696705\n",
      "\n",
      "\n",
      " Ridge(alpha=0.75) - Model performance\n",
      "--------------------------------------\n",
      "RMSE is 4.967899312642954\n",
      "R2 score is 0.7222482931938209\n",
      "\n",
      "\n",
      " ElasticNet(alpha=0.25, l1_ratio=0.75) - Model performance\n",
      "--------------------------------------\n",
      "RMSE is 5.229510148042348\n",
      "R2 score is 0.6922251089242429\n",
      "\n",
      "\n"
     ]
    }
   ],
   "source": [
    "from sklearn.linear_model import LinearRegression\n",
    "\n",
    "# fit the LR model to the training data\n",
    "lin_model = LinearRegression()\n",
    "\n",
    "# fit the Lasso model\n",
    "l1_model = Lasso(alpha=0.25)\n",
    "\n",
    "# fit the Ridge model\n",
    "l2_model = Ridge(alpha=0.75)\n",
    "\n",
    "# fit the ElasticNet model\n",
    "enet = ElasticNet(alpha=0.25, l1_ratio=0.75)\n",
    "\n",
    "# make a list of models to iterate (loop) through\n",
    "models = [lin_model, l1_model, l2_model, enet]\n",
    "\n",
    "for model in models:\n",
    "  # fit model\n",
    "  fitted_model = model.fit(X_train, Y_train)\n",
    "\n",
    "  # predict every Y value in the dataset\n",
    "  boston_predict = fitted_model.predict(X_train)\n",
    "\n",
    "  # calculate RMSE (root mean square error) and R^2 (predictive power)\n",
    "  from sklearn.metrics import mean_squared_error, r2_score\n",
    "  rmse = (np.sqrt(mean_squared_error(Y_train, boston_predict)))\n",
    "  r2 = r2_score(Y_train, boston_predict)\n",
    "\n",
    "  # print the performance metrics\n",
    "  print(f' {model} - Model performance')\n",
    "  print(\"--------------------------------------\")\n",
    "  print(f'RMSE is {rmse}')\n",
    "  print(f'R2 score is {r2}')\n",
    "  print('\\n')"
   ]
  },
  {
   "cell_type": "markdown",
   "metadata": {
    "id": "emVmEogJb09L"
   },
   "source": [
    "### STEP NINE: Select the best model\n",
    "Our results suggest Lasso and ElasticNet show weaker overall performance. There is only a small difference between vanilla Linear Regression and Ridge Regression, with the vanilla model doing slightly better? So, which should we choose?\n",
    "\n",
    "Although it performs slightly worse I would pick Ridge. The difference on both metrics is very, very small but the $L2$ regularisation penalty means we should be better protected against overfitting. 0.0001 less $R^2$ seems like a very cheap price to pay for this extra protection. "
   ]
  },
  {
   "cell_type": "markdown",
   "metadata": {
    "id": "EjWjxfCtdE6G"
   },
   "source": [
    "### STEP TEN: Predict the test data and evaluate performance\n",
    "Let's put our model to work!"
   ]
  },
  {
   "cell_type": "code",
   "execution_count": 20,
   "metadata": {
    "colab": {
     "base_uri": "https://localhost:8080/"
    },
    "id": "k1ZMUL_DdNL0",
    "outputId": "79a3381d-dd9c-407a-d2ca-4c183d519454"
   },
   "outputs": [
    {
     "name": "stdout",
     "output_type": "stream",
     "text": [
      "Model performance\n",
      "--------------------------------------\n",
      "RMSE is 4.02507160169385\n",
      "R2 score is 0.7574724364680869\n",
      "\n",
      "\n"
     ]
    }
   ],
   "source": [
    "# fit the model to the training data\n",
    "l2_model_fit = l2_model.fit(X_train, Y_train)\n",
    "\n",
    "# predict the data\n",
    "boston_predict = l2_model_fit.predict(X_test)\n",
    "\n",
    "# calculate RMSE (root mean square error) and R^2 (predictive power)\n",
    "rmse = (np.sqrt(mean_squared_error(Y_test, boston_predict)))\n",
    "r2 = r2_score(Y_test, boston_predict)\n",
    "\n",
    "# print the performance metrics\n",
    "print(\"Model performance\")\n",
    "print(\"--------------------------------------\")\n",
    "print('RMSE is {}'.format(rmse))\n",
    "print('R2 score is {}'.format(r2))\n",
    "print(\"\\n\")"
   ]
  },
  {
   "cell_type": "markdown",
   "metadata": {
    "id": "FWQvuZrLIohs"
   },
   "source": [
    "We can see some drop in performance from training (but this is to be expected to some extent as the model hasn't seen this data). If we consider 4.4 RMSE and/or 77% $R^2$ to be too low, we may go back and start the process again with different algorithms, but in this case we will consider it acceptable:\n",
    "\n"
   ]
  },
  {
   "cell_type": "markdown",
   "metadata": {
    "id": "dgR3xTNJfLiL"
   },
   "source": [
    "#### STEP ELEVEN: Party time\n",
    "![](https://drive.google.com/uc?export=view&id=10wW-fH93pxZEo78Ve2wviJmZEitqjcWj)"
   ]
  }
 ],
 "metadata": {
  "colab": {
   "authorship_tag": "ABX9TyOe9tcLvBklo1scWD41kpMS",
   "include_colab_link": true,
   "provenance": []
  },
  "kernelspec": {
   "display_name": "Python 3 (ipykernel)",
   "language": "python",
   "name": "python3"
  },
  "language_info": {
   "codemirror_mode": {
    "name": "ipython",
    "version": 3
   },
   "file_extension": ".py",
   "mimetype": "text/x-python",
   "name": "python",
   "nbconvert_exporter": "python",
   "pygments_lexer": "ipython3",
   "version": "3.11.7"
  }
 },
 "nbformat": 4,
 "nbformat_minor": 4
}
